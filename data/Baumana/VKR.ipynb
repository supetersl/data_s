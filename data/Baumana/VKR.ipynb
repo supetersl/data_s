{
 "cells": [
  {
   "cell_type": "code",
   "execution_count": 1,
   "metadata": {
    "id": "QZv_W7g7pvoS"
   },
   "outputs": [],
   "source": [
    "import numpy as np\n",
    "import pandas as pd\n",
    "from sklearn.preprocessing import  LabelEncoder, OrdinalEncoder, MinMaxScaler, StandardScaler\n",
    "import seaborn as sns\n",
    "import matplotlib.pyplot as plt\n",
    "from sklearn.metrics import r2_score\n",
    "from sklearn.compose import ColumnTransformer\n",
    "\n",
    "from sklearn.model_selection import train_test_split, KFold, cross_val_score, cross_validate, GridSearchCV\n",
    "\n",
    "from sklearn.linear_model import LinearRegression, Ridge, Lasso\n",
    "from sklearn.svm import SVR\n",
    "from sklearn.linear_model import SGDRegressor\n",
    "from sklearn.neighbors import KNeighborsRegressor\n",
    "from sklearn.tree import DecisionTreeRegressor\n",
    "from sklearn.ensemble import RandomForestRegressor, GradientBoostingRegressor, AdaBoostRegressor\n",
    "\n",
    "from sklearn import metrics"
   ]
  },
  {
   "cell_type": "markdown",
   "metadata": {
    "id": "j_jlF7M4qtA4"
   },
   "source": [
    "# 1.Импорт данных и описание"
   ]
  },
  {
   "cell_type": "code",
   "execution_count": 3,
   "metadata": {
    "colab": {
     "base_uri": "https://localhost:8080/"
    },
    "id": "UQ7N6_K_qrpL",
    "outputId": "2fbd524e-8460-4190-d344-6faba8b57b96"
   },
   "outputs": [],
   "source": [
    "from google.colab import drive\n",
    "drive.mount('/content/drive')\n",
    "#audio_path = '/content/drive/MyDrive/Colab Notebooks/Af.mp3'\n",
    "df_bp = pd.read_excel('/content/drive/MyDrive/Colab Notebooks/ВКР/X_bp_v1.xlsx',index_col=0)\n",
    "df_nup = pd.read_excel('/content/drive/MyDrive/Colab Notebooks/ВКР/X_nup.xlsx',index_col=0)"
   ]
  },
  {
   "cell_type": "code",
   "execution_count": 4,
   "metadata": {},
   "outputs": [],
   "source": [
    "#Загрузить локально\n",
    "df_bp = pd.read_excel(\"X_bp_v1.xlsx\",index_col=0)\n",
    "df_nup = pd.read_excel(\"X_nup.xlsx\",index_col=0)"
   ]
  },
  {
   "cell_type": "code",
   "execution_count": 3,
   "metadata": {
    "colab": {
     "base_uri": "https://localhost:8080/"
    },
    "id": "7jn0ehj0sdFA",
    "outputId": "86e6571d-5602-4385-80d5-95247363fa37"
   },
   "outputs": [
    {
     "name": "stdout",
     "output_type": "stream",
     "text": [
      "df_bp  (1023, 10)\n",
      "df_nup  (1040, 3)\n"
     ]
    }
   ],
   "source": [
    "#Посмотрим исходные данные\n",
    "print('df_bp ',df_bp.shape)\n",
    "print('df_nup ',df_nup.shape)"
   ]
  },
  {
   "cell_type": "markdown",
   "metadata": {
    "id": "N21SrjPHs7jA"
   },
   "source": [
    "Видно, что даные имеют разную размерность, часть данных при объединении потеряется"
   ]
  },
  {
   "cell_type": "code",
   "execution_count": 4,
   "metadata": {
    "colab": {
     "base_uri": "https://localhost:8080/"
    },
    "id": "oP5c5IVbrDN0",
    "outputId": "605a935b-b26f-4b82-e7e6-7d78a1c13d5e"
   },
   "outputs": [
    {
     "data": {
      "text/plain": [
       "['Угол нашивки, град',\n",
       " 'Шаг нашивки',\n",
       " 'Плотность нашивки',\n",
       " 'Соотношение матрица-наполнитель',\n",
       " 'Плотность, кг/м3',\n",
       " 'модуль упругости, ГПа',\n",
       " 'Количество отвердителя, м.%',\n",
       " 'Содержание эпоксидных групп,%_2',\n",
       " 'Температура вспышки, С_2',\n",
       " 'Поверхностная плотность, г/м2',\n",
       " 'Модуль упругости при растяжении, ГПа',\n",
       " 'Прочность при растяжении, МПа',\n",
       " 'Потребление смолы, г/м2']"
      ]
     },
     "execution_count": 4,
     "metadata": {},
     "output_type": "execute_result"
    }
   ],
   "source": [
    "#Объединим 2 датасета\n",
    "df = df_nup.join(df_bp,  how='inner')\n",
    "df_rows = df.copy()\n",
    "df_col = df.columns.to_list()\n",
    "df_col"
   ]
  },
  {
   "cell_type": "markdown",
   "metadata": {
    "id": "F10MCy9jtz5H"
   },
   "source": [
    "посмотрим, что из себя представляют данные"
   ]
  },
  {
   "cell_type": "code",
   "execution_count": 5,
   "metadata": {
    "colab": {
     "base_uri": "https://localhost:8080/"
    },
    "id": "ih-07Rsct6DA",
    "outputId": "4ae1df17-214c-48d3-e8be-c30a7b7be23f"
   },
   "outputs": [
    {
     "name": "stdout",
     "output_type": "stream",
     "text": [
      "<class 'pandas.core.frame.DataFrame'>\n",
      "Int64Index: 1023 entries, 0 to 1022\n",
      "Data columns (total 13 columns):\n",
      " #   Column                                Non-Null Count  Dtype  \n",
      "---  ------                                --------------  -----  \n",
      " 0   Угол нашивки, град                    1023 non-null   int64  \n",
      " 1   Шаг нашивки                           1023 non-null   float64\n",
      " 2   Плотность нашивки                     1023 non-null   float64\n",
      " 3   Соотношение матрица-наполнитель       1023 non-null   float64\n",
      " 4   Плотность, кг/м3                      1023 non-null   float64\n",
      " 5   модуль упругости, ГПа                 1023 non-null   float64\n",
      " 6   Количество отвердителя, м.%           1023 non-null   float64\n",
      " 7   Содержание эпоксидных групп,%_2       1023 non-null   float64\n",
      " 8   Температура вспышки, С_2              1023 non-null   float64\n",
      " 9   Поверхностная плотность, г/м2         1023 non-null   float64\n",
      " 10  Модуль упругости при растяжении, ГПа  1023 non-null   float64\n",
      " 11  Прочность при растяжении, МПа         1023 non-null   float64\n",
      " 12  Потребление смолы, г/м2               1023 non-null   float64\n",
      "dtypes: float64(12), int64(1)\n",
      "memory usage: 111.9 KB\n"
     ]
    }
   ],
   "source": [
    "df.info()"
   ]
  },
  {
   "cell_type": "markdown",
   "metadata": {
    "id": "DxnIYfgKuD2P"
   },
   "source": [
    "нулевые значения отсутствуют"
   ]
  },
  {
   "cell_type": "code",
   "execution_count": 5,
   "metadata": {
    "colab": {
     "base_uri": "https://localhost:8080/",
     "height": 396
    },
    "id": "6hPkqHAsuHvQ",
    "outputId": "55424a71-6771-44b7-925e-3654c9d858e7"
   },
   "outputs": [
    {
     "data": {
      "text/html": [
       "<div>\n",
       "<style scoped>\n",
       "    .dataframe tbody tr th:only-of-type {\n",
       "        vertical-align: middle;\n",
       "    }\n",
       "\n",
       "    .dataframe tbody tr th {\n",
       "        vertical-align: top;\n",
       "    }\n",
       "\n",
       "    .dataframe thead th {\n",
       "        text-align: right;\n",
       "    }\n",
       "</style>\n",
       "<table border=\"1\" class=\"dataframe\">\n",
       "  <thead>\n",
       "    <tr style=\"text-align: right;\">\n",
       "      <th></th>\n",
       "      <th>Угол нашивки, град</th>\n",
       "      <th>Шаг нашивки</th>\n",
       "      <th>Плотность нашивки</th>\n",
       "      <th>Соотношение матрица-наполнитель</th>\n",
       "      <th>Плотность, кг/м3</th>\n",
       "      <th>модуль упругости, ГПа</th>\n",
       "      <th>Количество отвердителя, м.%</th>\n",
       "      <th>Содержание эпоксидных групп,%_2</th>\n",
       "      <th>Температура вспышки, С_2</th>\n",
       "      <th>Поверхностная плотность, г/м2</th>\n",
       "      <th>Модуль упругости при растяжении, ГПа</th>\n",
       "      <th>Прочность при растяжении, МПа</th>\n",
       "      <th>Потребление смолы, г/м2</th>\n",
       "    </tr>\n",
       "  </thead>\n",
       "  <tbody>\n",
       "    <tr>\n",
       "      <th>count</th>\n",
       "      <td>1023.000000</td>\n",
       "      <td>1023.000000</td>\n",
       "      <td>1023.000000</td>\n",
       "      <td>1023.000000</td>\n",
       "      <td>1023.000000</td>\n",
       "      <td>1023.000000</td>\n",
       "      <td>1023.000000</td>\n",
       "      <td>1023.000000</td>\n",
       "      <td>1023.000000</td>\n",
       "      <td>1023.000000</td>\n",
       "      <td>1023.000000</td>\n",
       "      <td>1023.000000</td>\n",
       "      <td>1023.000000</td>\n",
       "    </tr>\n",
       "    <tr>\n",
       "      <th>mean</th>\n",
       "      <td>44.252199</td>\n",
       "      <td>6.903132</td>\n",
       "      <td>57.199873</td>\n",
       "      <td>2.930366</td>\n",
       "      <td>1975.734888</td>\n",
       "      <td>739.923233</td>\n",
       "      <td>110.956125</td>\n",
       "      <td>22.223949</td>\n",
       "      <td>286.228042</td>\n",
       "      <td>482.731833</td>\n",
       "      <td>73.328571</td>\n",
       "      <td>2466.922843</td>\n",
       "      <td>218.423144</td>\n",
       "    </tr>\n",
       "    <tr>\n",
       "      <th>std</th>\n",
       "      <td>45.015793</td>\n",
       "      <td>2.555973</td>\n",
       "      <td>12.224931</td>\n",
       "      <td>0.913222</td>\n",
       "      <td>73.729231</td>\n",
       "      <td>330.231581</td>\n",
       "      <td>28.117771</td>\n",
       "      <td>2.384606</td>\n",
       "      <td>40.553076</td>\n",
       "      <td>281.314690</td>\n",
       "      <td>3.118983</td>\n",
       "      <td>485.628006</td>\n",
       "      <td>59.735931</td>\n",
       "    </tr>\n",
       "    <tr>\n",
       "      <th>min</th>\n",
       "      <td>0.000000</td>\n",
       "      <td>0.037639</td>\n",
       "      <td>11.740126</td>\n",
       "      <td>0.389403</td>\n",
       "      <td>1731.764635</td>\n",
       "      <td>2.436909</td>\n",
       "      <td>17.740275</td>\n",
       "      <td>14.254985</td>\n",
       "      <td>160.255843</td>\n",
       "      <td>0.603740</td>\n",
       "      <td>64.054061</td>\n",
       "      <td>1036.856605</td>\n",
       "      <td>33.803026</td>\n",
       "    </tr>\n",
       "    <tr>\n",
       "      <th>25%</th>\n",
       "      <td>0.000000</td>\n",
       "      <td>5.080033</td>\n",
       "      <td>49.799212</td>\n",
       "      <td>2.317887</td>\n",
       "      <td>1924.155467</td>\n",
       "      <td>500.047452</td>\n",
       "      <td>92.577613</td>\n",
       "      <td>20.608034</td>\n",
       "      <td>259.170041</td>\n",
       "      <td>266.816645</td>\n",
       "      <td>71.245018</td>\n",
       "      <td>2135.850448</td>\n",
       "      <td>179.627520</td>\n",
       "    </tr>\n",
       "    <tr>\n",
       "      <th>50%</th>\n",
       "      <td>0.000000</td>\n",
       "      <td>6.916144</td>\n",
       "      <td>57.341920</td>\n",
       "      <td>2.906878</td>\n",
       "      <td>1977.621657</td>\n",
       "      <td>739.664328</td>\n",
       "      <td>110.689775</td>\n",
       "      <td>22.181806</td>\n",
       "      <td>286.701065</td>\n",
       "      <td>451.864365</td>\n",
       "      <td>73.268805</td>\n",
       "      <td>2459.524526</td>\n",
       "      <td>219.198882</td>\n",
       "    </tr>\n",
       "    <tr>\n",
       "      <th>75%</th>\n",
       "      <td>90.000000</td>\n",
       "      <td>8.586293</td>\n",
       "      <td>64.944961</td>\n",
       "      <td>3.552660</td>\n",
       "      <td>2021.374375</td>\n",
       "      <td>961.812526</td>\n",
       "      <td>129.730366</td>\n",
       "      <td>23.961468</td>\n",
       "      <td>313.002106</td>\n",
       "      <td>693.225017</td>\n",
       "      <td>75.356612</td>\n",
       "      <td>2767.193119</td>\n",
       "      <td>257.481724</td>\n",
       "    </tr>\n",
       "    <tr>\n",
       "      <th>max</th>\n",
       "      <td>90.000000</td>\n",
       "      <td>14.440522</td>\n",
       "      <td>103.988901</td>\n",
       "      <td>5.591742</td>\n",
       "      <td>2207.773481</td>\n",
       "      <td>1911.536477</td>\n",
       "      <td>198.953207</td>\n",
       "      <td>28.955094</td>\n",
       "      <td>413.273418</td>\n",
       "      <td>1399.542362</td>\n",
       "      <td>82.682051</td>\n",
       "      <td>3848.436732</td>\n",
       "      <td>414.590628</td>\n",
       "    </tr>\n",
       "  </tbody>\n",
       "</table>\n",
       "</div>"
      ],
      "text/plain": [
       "       Угол нашивки, град  Шаг нашивки  Плотность нашивки  \\\n",
       "count         1023.000000  1023.000000        1023.000000   \n",
       "mean            44.252199     6.903132          57.199873   \n",
       "std             45.015793     2.555973          12.224931   \n",
       "min              0.000000     0.037639          11.740126   \n",
       "25%              0.000000     5.080033          49.799212   \n",
       "50%              0.000000     6.916144          57.341920   \n",
       "75%             90.000000     8.586293          64.944961   \n",
       "max             90.000000    14.440522         103.988901   \n",
       "\n",
       "       Соотношение матрица-наполнитель  Плотность, кг/м3  \\\n",
       "count                      1023.000000       1023.000000   \n",
       "mean                          2.930366       1975.734888   \n",
       "std                           0.913222         73.729231   \n",
       "min                           0.389403       1731.764635   \n",
       "25%                           2.317887       1924.155467   \n",
       "50%                           2.906878       1977.621657   \n",
       "75%                           3.552660       2021.374375   \n",
       "max                           5.591742       2207.773481   \n",
       "\n",
       "       модуль упругости, ГПа  Количество отвердителя, м.%  \\\n",
       "count            1023.000000                  1023.000000   \n",
       "mean              739.923233                   110.956125   \n",
       "std               330.231581                    28.117771   \n",
       "min                 2.436909                    17.740275   \n",
       "25%               500.047452                    92.577613   \n",
       "50%               739.664328                   110.689775   \n",
       "75%               961.812526                   129.730366   \n",
       "max              1911.536477                   198.953207   \n",
       "\n",
       "       Содержание эпоксидных групп,%_2  Температура вспышки, С_2  \\\n",
       "count                      1023.000000               1023.000000   \n",
       "mean                         22.223949                286.228042   \n",
       "std                           2.384606                 40.553076   \n",
       "min                          14.254985                160.255843   \n",
       "25%                          20.608034                259.170041   \n",
       "50%                          22.181806                286.701065   \n",
       "75%                          23.961468                313.002106   \n",
       "max                          28.955094                413.273418   \n",
       "\n",
       "       Поверхностная плотность, г/м2  Модуль упругости при растяжении, ГПа  \\\n",
       "count                    1023.000000                           1023.000000   \n",
       "mean                      482.731833                             73.328571   \n",
       "std                       281.314690                              3.118983   \n",
       "min                         0.603740                             64.054061   \n",
       "25%                       266.816645                             71.245018   \n",
       "50%                       451.864365                             73.268805   \n",
       "75%                       693.225017                             75.356612   \n",
       "max                      1399.542362                             82.682051   \n",
       "\n",
       "       Прочность при растяжении, МПа  Потребление смолы, г/м2  \n",
       "count                    1023.000000              1023.000000  \n",
       "mean                     2466.922843               218.423144  \n",
       "std                       485.628006                59.735931  \n",
       "min                      1036.856605                33.803026  \n",
       "25%                      2135.850448               179.627520  \n",
       "50%                      2459.524526               219.198882  \n",
       "75%                      2767.193119               257.481724  \n",
       "max                      3848.436732               414.590628  "
      ]
     },
     "execution_count": 5,
     "metadata": {},
     "output_type": "execute_result"
    }
   ],
   "source": [
    "df.describe()"
   ]
  },
  {
   "cell_type": "markdown",
   "metadata": {
    "id": "NhHyQRe9upJD"
   },
   "source": [
    "# 2. Графическое представление **даннных**"
   ]
  },
  {
   "cell_type": "markdown",
   "metadata": {
    "id": "0hA1viseuwj-"
   },
   "source": [
    "\"Ящики с усами\""
   ]
  },
  {
   "cell_type": "code",
   "execution_count": 6,
   "metadata": {
    "colab": {
     "base_uri": "https://localhost:8080/",
     "height": 1000
    },
    "id": "h7nDHIjjuSzs",
    "outputId": "4bebd544-8b31-4626-db3b-a59c768d35aa"
   },
   "outputs": [
    {
     "data": {
      "image/png": "[encoded data removed]",
      "text/plain": [
       "<Figure size 720x360 with 2 Axes>"
      ]
     },
     "metadata": {
      "needs_background": "light"
     },
     "output_type": "display_data"
    },
    {
     "data": {
      "image/png": "[encoded data removed]",
      "text/plain": [
       "<Figure size 720x360 with 2 Axes>"
      ]
     },
     "metadata": {
      "needs_background": "light"
     },
     "output_type": "display_data"
    },
    {
     "data": {
      "image/png": "[encoded data removed]",
      "text/plain": [
       "<Figure size 720x360 with 2 Axes>"
      ]
     },
     "metadata": {
      "needs_background": "light"
     },
     "output_type": "display_data"
    },
    {
     "data": {
      "image/png": "[encoded data removed]",
      "text/plain": [
       "<Figure size 720x360 with 2 Axes>"
      ]
     },
     "metadata": {
      "needs_background": "light"
     },
     "output_type": "display_data"
    },
    {
     "data": {
      "image/png": "[encoded data removed]",
      "text/plain": [
       "<Figure size 720x360 with 2 Axes>"
      ]
     },
     "metadata": {
      "needs_background": "light"
     },
     "output_type": "display_data"
    },
    {
     "data": {
      "image/png": "[encoded data removed]",
      "text/plain": [
       "<Figure size 720x360 with 2 Axes>"
      ]
     },
     "metadata": {
      "needs_background": "light"
     },
     "output_type": "display_data"
    },
    {
     "data": {
      "image/png": "[encoded data removed]",
      "text/plain": [
       "<Figure size 720x360 with 1 Axes>"
      ]
     },
     "metadata": {
      "needs_background": "light"
     },
     "output_type": "display_data"
    }
   ],
   "source": [
    "i=1\n",
    "for elem in df.columns:   \n",
    "    if i%2 != 0:\n",
    "        fig = plt.figure(figsize=(10,5))\n",
    "        ax = fig.add_subplot(121)\n",
    "        sns.boxplot(y = df[elem], color = 'palegreen')\n",
    "    else:\n",
    "        ax = fig.add_subplot(122)\n",
    "        sns.boxplot(y = df[elem], color = 'palegreen')\n",
    "        plt.savefig('out_pics/boxplot//BoxPlot'+str(i))\n",
    "    i+=1 \n",
    "#Печать последней нечетной\n",
    "plt.savefig('out_pics/boxplot//BoxPlot'+str(i))    \n",
    "plt.show()  \n"
   ]
  },
  {
   "cell_type": "markdown",
   "metadata": {
    "id": "GnPQwzzy2mkP"
   },
   "source": [
    "Гистограммы"
   ]
  },
  {
   "cell_type": "code",
   "execution_count": 7,
   "metadata": {
    "colab": {
     "base_uri": "https://localhost:8080/",
     "height": 1000
    },
    "id": "uW3kXqgTv8sA",
    "outputId": "43ab4aac-c804-4edd-d7ba-d4465e17a83c"
   },
   "outputs": [
    {
     "data": {
      "image/png": "[encoded data removed]",
      "text/plain": [
       "<Figure size 720x360 with 2 Axes>"
      ]
     },
     "metadata": {
      "needs_background": "light"
     },
     "output_type": "display_data"
    },
    {
     "data": {
      "image/png": "[encoded data removed]",
      "text/plain": [
       "<Figure size 720x360 with 2 Axes>"
      ]
     },
     "metadata": {
      "needs_background": "light"
     },
     "output_type": "display_data"
    },
    {
     "data": {
      "image/png": "[encoded data removed]",
      "text/plain": [
       "<Figure size 720x360 with 2 Axes>"
      ]
     },
     "metadata": {
      "needs_background": "light"
     },
     "output_type": "display_data"
    },
    {
     "data": {
      "image/png": "[encoded data removed]",
      "text/plain": [
       "<Figure size 720x360 with 2 Axes>"
      ]
     },
     "metadata": {
      "needs_background": "light"
     },
     "output_type": "display_data"
    },
    {
     "data": {
      "image/png": "[encoded data removed]",
      "text/plain": [
       "<Figure size 720x360 with 2 Axes>"
      ]
     },
     "metadata": {
      "needs_background": "light"
     },
     "output_type": "display_data"
    },
    {
     "data": {
      "image/png": "[encoded data removed]",
      "text/plain": [
       "<Figure size 720x360 with 2 Axes>"
      ]
     },
     "metadata": {
      "needs_background": "light"
     },
     "output_type": "display_data"
    },
    {
     "data": {
      "image/png": "[encoded data removed]",
      "text/plain": [
       "<Figure size 720x360 with 1 Axes>"
      ]
     },
     "metadata": {
      "needs_background": "light"
     },
     "output_type": "display_data"
    }
   ],
   "source": [
    "i=1\n",
    "for elem in df.columns:   \n",
    "    if i%2 != 0:\n",
    "        fig = plt.figure(figsize=(10,5))\n",
    "        ax = fig.add_subplot(121)\n",
    "        sns.histplot(df[elem], kde=False, bins=30, color='palegreen')\n",
    "        \n",
    "        plt.title(elem)\n",
    "    else:\n",
    "        ax = fig.add_subplot(122)\n",
    "        sns.histplot(df[elem], kde=False, bins=30, color='palegreen')\n",
    "        \n",
    "        plt.title(elem)\n",
    "        plt.savefig('out_pics/hist//hist'+str(i))    \n",
    "    i+=1   \n",
    "plt.savefig('out_pics/hist//hist'+str(i)) \n",
    "plt.show()      "
   ]
  },
  {
   "cell_type": "markdown",
   "metadata": {
    "id": "Zmupb8c13E1E"
   },
   "source": [
    "Попарные графики точек рассеяния"
   ]
  },
  {
   "cell_type": "code",
   "execution_count": null,
   "metadata": {
    "colab": {
     "base_uri": "https://localhost:8080/",
     "height": 1000
    },
    "id": "5D5o1DwR3HiO",
    "outputId": "b003adb1-9b4d-4e40-a2c5-12b44d9c5641"
   },
   "outputs": [],
   "source": [
    "columns = df.columns\n",
    "g = sns.PairGrid(df[columns])\n",
    "g.map(sns.scatterplot, color ='green')\n",
    "g.savefig(\"out_pics//pairgrid\") "
   ]
  },
  {
   "cell_type": "markdown",
   "metadata": {
    "id": "WA8vLM0A8zDP"
   },
   "source": [
    "Тепловая карта корреляции"
   ]
  },
  {
   "cell_type": "code",
   "execution_count": 9,
   "metadata": {
    "colab": {
     "base_uri": "https://localhost:8080/",
     "height": 841
    },
    "id": "yB2l08kB82Su",
    "outputId": "d69f7823-7917-4d7f-967d-8fe5714358cc"
   },
   "outputs": [
    {
     "data": {
      "image/png": "[encoded data removed]",
      "text/plain": [
       "<Figure size 1080x720 with 2 Axes>"
      ]
     },
     "metadata": {
      "needs_background": "light"
     },
     "output_type": "display_data"
    }
   ],
   "source": [
    "g = plt.figure(figsize=(15,10))\n",
    "sns.heatmap(df.corr(), vmin = -1, vmax = +1, annot = True, cmap = 'Pastel2')\n",
    "g.savefig(\"out_pics//heatmap\") "
   ]
  },
  {
   "cell_type": "markdown",
   "metadata": {},
   "source": [
    "Вывод по разделу. \n",
    "Представленные данные имеют слабые корреляции друг с другом. Есть предположение о том, что данные были искусственно составлены, начиная с 23 позиции на основании первых значений."
   ]
  },
  {
   "cell_type": "markdown",
   "metadata": {
    "id": "clHAG4rR9ae1"
   },
   "source": [
    "# 3. Предобработка данных"
   ]
  },
  {
   "cell_type": "markdown",
   "metadata": {},
   "source": [
    "По плану исследования предполагается подготовить 4 варианта исходных данных\n",
    "1. Исходный предложенный вариант\n",
    "2. Измененный вариант №1 \n",
    "   2.1. Формируем 23 таблицы, предполагая, что первые 23 строки - эталонные\n",
    "   2.2. По методу среднеквадратичного отклонения заполняем эти таблицы 44 строками (11 последних отбросим) таким образом, чтобы строка №2 была максимально похожа на эталонную, №3 - менее и так далее.\n",
    "   2.3. В каждой таблице по первым 20 строкам поставим равным 0 значения по столбцам, выходящие за пределы\n",
    "            max = q75+(1*(q75-q25))\n",
    "            min = q25-(1*(q75-q25))\n",
    "   2.4. Заменим нули средними значениями по столбцу\n",
    "   2.5. Посчитаем % замены\n",
    "3. Измененный вариант №2\n",
    "   Аналогично варианту №1. Строк - 10, интервал - 0,5   \n",
    "4. Измененный вариант №3\n",
    "   Аналогично варианту №1. Строк - 5, интервал - 0      "
   ]
  },
  {
   "cell_type": "markdown",
   "metadata": {},
   "source": [
    "## 3.1. Исходный вариант "
   ]
  },
  {
   "cell_type": "code",
   "execution_count": 10,
   "metadata": {
    "colab": {
     "base_uri": "https://localhost:8080/"
    },
    "id": "WZSAweSK9hcD",
    "outputId": "02f84708-3c7c-4ae2-bd64-9b65f3abe0af"
   },
   "outputs": [
    {
     "name": "stdout",
     "output_type": "stream",
     "text": [
      "По колонкке Угол нашивки, град повторений не обнаружено\n",
      "По колонкке Шаг нашивки повторений не обнаружено\n",
      "По колонкке Плотность нашивки повторений не обнаружено\n",
      "По колонкке Соотношение матрица-наполнитель повторений не обнаружено\n",
      "По колонкке Плотность, кг/м3 повторений не обнаружено\n",
      "По колонкке модуль упругости, ГПа повторений не обнаружено\n",
      "По колонкке Количество отвердителя, м.% повторений не обнаружено\n",
      "По колонкке Содержание эпоксидных групп,%_2 повторений не обнаружено\n",
      "По колонкке Температура вспышки, С_2 повторений не обнаружено\n",
      "По колонкке Поверхностная плотность, г/м2 повторений не обнаружено\n",
      "По колонкке Модуль упругости при растяжении, ГПа повторений не обнаружено\n",
      "По колонкке Прочность при растяжении, МПа повторений не обнаружено\n",
      "По колонкке Потребление смолы, г/м2 повторений не обнаружено\n"
     ]
    }
   ],
   "source": [
    "#Проверяем наличие признаков с повторениями более 90%\n",
    "num_rows = len(df.index)\n",
    "low_information_cols = [] #\n",
    "\n",
    "for col in df.columns:\n",
    "    cnts = df[col].value_counts(dropna=False)\n",
    "    top_pct = (cnts/num_rows).iloc[0]\n",
    "    \n",
    "    if top_pct > 0.90:\n",
    "        low_information_cols.append(col)\n",
    "        print('{0}: {1:.5f}%'.format(col, top_pct*100))\n",
    "        print(cnts)\n",
    "    else:\n",
    "        print(f'По колонкке {col} повторений не обнаружено')    \n"
   ]
  },
  {
   "cell_type": "code",
   "execution_count": 11,
   "metadata": {
    "colab": {
     "base_uri": "https://localhost:8080/"
    },
    "id": "EC5ajcWySOZI",
    "outputId": "07b3edc1-af64-4cba-a94a-ca6342884dd5"
   },
   "outputs": [
    {
     "data": {
      "text/plain": [
       "Угол нашивки, град                       0\n",
       "Шаг нашивки                              4\n",
       "Плотность нашивки                       20\n",
       "Соотношение матрица-наполнитель          6\n",
       "Плотность, кг/м3                         9\n",
       "модуль упругости, ГПа                    2\n",
       "Количество отвердителя, м.%             13\n",
       "Содержание эпоксидных групп,%_2          1\n",
       "Температура вспышки, С_2                 7\n",
       "Поверхностная плотность, г/м2            2\n",
       "Модуль упругости при растяжении, ГПа     6\n",
       "Прочность при растяжении, МПа           11\n",
       "Потребление смолы, г/м2                  8\n",
       "dtype: int64"
      ]
     },
     "execution_count": 11,
     "metadata": {},
     "output_type": "execute_result"
    }
   ],
   "source": [
    "#Удалим выбросы\n",
    "for column in df.columns:\n",
    "    q75,q25 = np.percentile(df.loc[:,column],[75,25])\n",
    "    intr_qr = q75-q25\n",
    "\n",
    "    max = q75+(1.5*intr_qr)\n",
    "    min = q25-(1.5*intr_qr)\n",
    "\n",
    "    df.loc[df[column] < min,column] = np.nan\n",
    "    df.loc[df[column] > max,column] = np.nan\n",
    "df.isnull().sum()"
   ]
  },
  {
   "cell_type": "code",
   "execution_count": 305,
   "metadata": {
    "id": "qhL2T0lNSxB_"
   },
   "outputs": [
    {
     "data": {
      "text/html": [
       "<div>\n",
       "<style scoped>\n",
       "    .dataframe tbody tr th:only-of-type {\n",
       "        vertical-align: middle;\n",
       "    }\n",
       "\n",
       "    .dataframe tbody tr th {\n",
       "        vertical-align: top;\n",
       "    }\n",
       "\n",
       "    .dataframe thead th {\n",
       "        text-align: right;\n",
       "    }\n",
       "</style>\n",
       "<table border=\"1\" class=\"dataframe\">\n",
       "  <thead>\n",
       "    <tr style=\"text-align: right;\">\n",
       "      <th></th>\n",
       "      <th>Угол нашивки, град</th>\n",
       "      <th>Шаг нашивки</th>\n",
       "      <th>Плотность нашивки</th>\n",
       "      <th>Соотношение матрица-наполнитель</th>\n",
       "      <th>Плотность, кг/м3</th>\n",
       "      <th>модуль упругости, ГПа</th>\n",
       "      <th>Количество отвердителя, м.%</th>\n",
       "      <th>Содержание эпоксидных групп,%_2</th>\n",
       "      <th>Температура вспышки, С_2</th>\n",
       "      <th>Поверхностная плотность, г/м2</th>\n",
       "      <th>Модуль упругости при растяжении, ГПа</th>\n",
       "      <th>Прочность при растяжении, МПа</th>\n",
       "      <th>Потребление смолы, г/м2</th>\n",
       "    </tr>\n",
       "  </thead>\n",
       "  <tbody>\n",
       "    <tr>\n",
       "      <th>count</th>\n",
       "      <td>939.000000</td>\n",
       "      <td>939.000000</td>\n",
       "      <td>939.000000</td>\n",
       "      <td>939.000000</td>\n",
       "      <td>939.000000</td>\n",
       "      <td>939.000000</td>\n",
       "      <td>939.000000</td>\n",
       "      <td>939.000000</td>\n",
       "      <td>939.000000</td>\n",
       "      <td>939.000000</td>\n",
       "      <td>939.000000</td>\n",
       "      <td>939.000000</td>\n",
       "      <td>939.000000</td>\n",
       "    </tr>\n",
       "    <tr>\n",
       "      <th>mean</th>\n",
       "      <td>45.910543</td>\n",
       "      <td>6.906270</td>\n",
       "      <td>57.453646</td>\n",
       "      <td>2.924054</td>\n",
       "      <td>1974.165561</td>\n",
       "      <td>738.722313</td>\n",
       "      <td>111.185898</td>\n",
       "      <td>22.198379</td>\n",
       "      <td>286.216086</td>\n",
       "      <td>482.973687</td>\n",
       "      <td>73.303087</td>\n",
       "      <td>2468.125173</td>\n",
       "      <td>217.706196</td>\n",
       "    </tr>\n",
       "    <tr>\n",
       "      <th>std</th>\n",
       "      <td>45.014763</td>\n",
       "      <td>2.511058</td>\n",
       "      <td>11.234014</td>\n",
       "      <td>0.893862</td>\n",
       "      <td>70.742162</td>\n",
       "      <td>328.503375</td>\n",
       "      <td>26.990905</td>\n",
       "      <td>2.393059</td>\n",
       "      <td>39.366042</td>\n",
       "      <td>280.554016</td>\n",
       "      <td>3.040224</td>\n",
       "      <td>463.999614</td>\n",
       "      <td>57.797371</td>\n",
       "    </tr>\n",
       "    <tr>\n",
       "      <th>min</th>\n",
       "      <td>0.000000</td>\n",
       "      <td>0.037639</td>\n",
       "      <td>27.272928</td>\n",
       "      <td>0.547391</td>\n",
       "      <td>1784.482245</td>\n",
       "      <td>2.436909</td>\n",
       "      <td>38.668500</td>\n",
       "      <td>15.695894</td>\n",
       "      <td>179.374391</td>\n",
       "      <td>0.603740</td>\n",
       "      <td>65.553336</td>\n",
       "      <td>1250.392802</td>\n",
       "      <td>63.685698</td>\n",
       "    </tr>\n",
       "    <tr>\n",
       "      <th>25%</th>\n",
       "      <td>0.000000</td>\n",
       "      <td>5.115560</td>\n",
       "      <td>50.209564</td>\n",
       "      <td>2.319244</td>\n",
       "      <td>1923.536424</td>\n",
       "      <td>500.047452</td>\n",
       "      <td>92.620105</td>\n",
       "      <td>20.576246</td>\n",
       "      <td>259.211711</td>\n",
       "      <td>264.410240</td>\n",
       "      <td>71.229278</td>\n",
       "      <td>2146.295983</td>\n",
       "      <td>179.627520</td>\n",
       "    </tr>\n",
       "    <tr>\n",
       "      <th>50%</th>\n",
       "      <td>90.000000</td>\n",
       "      <td>6.936649</td>\n",
       "      <td>57.565188</td>\n",
       "      <td>2.903305</td>\n",
       "      <td>1977.339047</td>\n",
       "      <td>738.736842</td>\n",
       "      <td>111.200954</td>\n",
       "      <td>22.141560</td>\n",
       "      <td>286.890669</td>\n",
       "      <td>456.908047</td>\n",
       "      <td>73.253725</td>\n",
       "      <td>2459.524526</td>\n",
       "      <td>218.946348</td>\n",
       "    </tr>\n",
       "    <tr>\n",
       "      <th>75%</th>\n",
       "      <td>90.000000</td>\n",
       "      <td>8.586293</td>\n",
       "      <td>64.798402</td>\n",
       "      <td>3.543610</td>\n",
       "      <td>2020.369531</td>\n",
       "      <td>959.442359</td>\n",
       "      <td>129.884490</td>\n",
       "      <td>23.961468</td>\n",
       "      <td>312.885525</td>\n",
       "      <td>695.955726</td>\n",
       "      <td>75.311290</td>\n",
       "      <td>2757.772535</td>\n",
       "      <td>256.510318</td>\n",
       "    </tr>\n",
       "    <tr>\n",
       "      <th>max</th>\n",
       "      <td>90.000000</td>\n",
       "      <td>13.732404</td>\n",
       "      <td>86.012427</td>\n",
       "      <td>5.314144</td>\n",
       "      <td>2161.565216</td>\n",
       "      <td>1649.415706</td>\n",
       "      <td>181.828448</td>\n",
       "      <td>28.955094</td>\n",
       "      <td>386.067992</td>\n",
       "      <td>1291.340115</td>\n",
       "      <td>81.417126</td>\n",
       "      <td>3705.672523</td>\n",
       "      <td>359.052220</td>\n",
       "    </tr>\n",
       "  </tbody>\n",
       "</table>\n",
       "</div>"
      ],
      "text/plain": [
       "       Угол нашивки, град  Шаг нашивки  Плотность нашивки  \\\n",
       "count          939.000000   939.000000         939.000000   \n",
       "mean            45.910543     6.906270          57.453646   \n",
       "std             45.014763     2.511058          11.234014   \n",
       "min              0.000000     0.037639          27.272928   \n",
       "25%              0.000000     5.115560          50.209564   \n",
       "50%             90.000000     6.936649          57.565188   \n",
       "75%             90.000000     8.586293          64.798402   \n",
       "max             90.000000    13.732404          86.012427   \n",
       "\n",
       "       Соотношение матрица-наполнитель  Плотность, кг/м3  \\\n",
       "count                       939.000000        939.000000   \n",
       "mean                          2.924054       1974.165561   \n",
       "std                           0.893862         70.742162   \n",
       "min                           0.547391       1784.482245   \n",
       "25%                           2.319244       1923.536424   \n",
       "50%                           2.903305       1977.339047   \n",
       "75%                           3.543610       2020.369531   \n",
       "max                           5.314144       2161.565216   \n",
       "\n",
       "       модуль упругости, ГПа  Количество отвердителя, м.%  \\\n",
       "count             939.000000                   939.000000   \n",
       "mean              738.722313                   111.185898   \n",
       "std               328.503375                    26.990905   \n",
       "min                 2.436909                    38.668500   \n",
       "25%               500.047452                    92.620105   \n",
       "50%               738.736842                   111.200954   \n",
       "75%               959.442359                   129.884490   \n",
       "max              1649.415706                   181.828448   \n",
       "\n",
       "       Содержание эпоксидных групп,%_2  Температура вспышки, С_2  \\\n",
       "count                       939.000000                939.000000   \n",
       "mean                         22.198379                286.216086   \n",
       "std                           2.393059                 39.366042   \n",
       "min                          15.695894                179.374391   \n",
       "25%                          20.576246                259.211711   \n",
       "50%                          22.141560                286.890669   \n",
       "75%                          23.961468                312.885525   \n",
       "max                          28.955094                386.067992   \n",
       "\n",
       "       Поверхностная плотность, г/м2  Модуль упругости при растяжении, ГПа  \\\n",
       "count                     939.000000                            939.000000   \n",
       "mean                      482.973687                             73.303087   \n",
       "std                       280.554016                              3.040224   \n",
       "min                         0.603740                             65.553336   \n",
       "25%                       264.410240                             71.229278   \n",
       "50%                       456.908047                             73.253725   \n",
       "75%                       695.955726                             75.311290   \n",
       "max                      1291.340115                             81.417126   \n",
       "\n",
       "       Прочность при растяжении, МПа  Потребление смолы, г/м2  \n",
       "count                     939.000000               939.000000  \n",
       "mean                     2468.125173               217.706196  \n",
       "std                       463.999614                57.797371  \n",
       "min                      1250.392802                63.685698  \n",
       "25%                      2146.295983               179.627520  \n",
       "50%                      2459.524526               218.946348  \n",
       "75%                      2757.772535               256.510318  \n",
       "max                      3705.672523               359.052220  "
      ]
     },
     "execution_count": 305,
     "metadata": {},
     "output_type": "execute_result"
    }
   ],
   "source": [
    "df = df.dropna(axis = 0)\n",
    "df.describe()\n"
   ]
  },
  {
   "cell_type": "markdown",
   "metadata": {},
   "source": [
    "## 3.2. Варианты 2, 3, 4"
   ]
  },
  {
   "cell_type": "code",
   "execution_count": 13,
   "metadata": {
    "id": "iJ1YeZwCCK51"
   },
   "outputs": [],
   "source": [
    "def create(df_rows):\n",
    "    df_lost = df_rows[23:].copy()\n",
    "    s = df_rows[:23]\n",
    "    names = []\n",
    "    d={}\n",
    "    for i in range(0,23):\n",
    "        n1 = 'data'+str(i)\n",
    "        names.append(n1)\n",
    "        d[n1] = pd.DataFrame(columns=s.columns)\n",
    "        d[n1].loc[s.index[i]] = s.iloc[i]\n",
    "    for i in range(1,44):\n",
    "\n",
    "        for j in range(0,23):\n",
    "            diff_df = df_lost - s[j:j+1].values\n",
    "            n_str= diff_df.apply(np.linalg.norm, axis=1).idxmin()\n",
    "            \n",
    "            n1 = 'data'+str(j)\n",
    "            d[n1].loc[n_str] = df_lost.loc[n_str]\n",
    "            df_lost.drop(labels = [n_str],inplace = True)\n",
    "    \n",
    "    return d"
   ]
  },
  {
   "cell_type": "code",
   "execution_count": 14,
   "metadata": {},
   "outputs": [],
   "source": [
    "def change(per, col, d_obr, df_col, n):\n",
    "    Dict_com = {}\n",
    "    Dict_data = {}\n",
    "    sNul=0\n",
    "    r = 0\n",
    "    for name in n:\n",
    "        data = d_obr[name]\n",
    "        r = r+(d_obr[name].shape[0]*d_obr[name].shape[1])\n",
    "    \n",
    "        for x in df_col:     \n",
    "            q75,q25 = np.percentile(data[:col].loc[:,x],[75,25])\n",
    "            intr_qr = q75-q25\n",
    "            max = q75+(per*intr_qr)\n",
    "            min = q25-(per*intr_qr)   \n",
    "            #intr_qr = (data[:col].loc[:,x]).mean()\n",
    "            #min = intr_qr*(1-per)\n",
    "            #max = intr_qr*(1+per)\n",
    "            data.loc[data[x] < min,x] = np.nan\n",
    "            data.loc[data[x] > max,x] = np.nan\n",
    "            sNul = sNul + data[x].isnull().sum() #Посчитаем сколько нулей появилось\n",
    "            #data[x] = data[x].fillna(data.loc[:,x].mean())\n",
    "            data[x] = data[x].fillna(data.loc[:,x].mean()) \n",
    "    df_ = pd.concat([d_obr['data0'],d_obr['data1'],d_obr['data2'], d_obr['data3'], d_obr['data4'],\n",
    "                          d_obr['data5'],d_obr['data6'],d_obr['data7'], d_obr['data8'], d_obr['data9'],\n",
    "                          d_obr['data10'],d_obr['data11'],d_obr['data12'], d_obr['data13'], d_obr['data14'],\n",
    "                          d_obr['data15'],d_obr['data16'],d_obr['data17'], d_obr['data18'], d_obr['data19'],\n",
    "                          d_obr['data20'],d_obr['data21'],d_obr['data22']])\n",
    "    #размер датафрейма\n",
    "    \n",
    "    print(f'Всего удалено {13299-r} значений, заменено {sNul} что вместе составляет {((13299-r+sNul)/13299*100).round(2)}% от общей базы')\n",
    "    return df_"
   ]
  },
  {
   "cell_type": "code",
   "execution_count": 15,
   "metadata": {},
   "outputs": [],
   "source": [
    "def d_names():   \n",
    "    names = []\n",
    "    for i in range(0,23):\n",
    "        n1 = 'data'+str(i)\n",
    "        names.append(n1)\n",
    "    return names"
   ]
  },
  {
   "cell_type": "code",
   "execution_count": 17,
   "metadata": {},
   "outputs": [],
   "source": [
    "d_name = d_names()"
   ]
  },
  {
   "cell_type": "code",
   "execution_count": 18,
   "metadata": {},
   "outputs": [
    {
     "name": "stdout",
     "output_type": "stream",
     "text": [
      "Всего удалено 143 значений, заменено 1485 что вместе составляет 12.24% от общей базы\n"
     ]
    }
   ],
   "source": [
    "df_union2 = change(1,20, create(df_rows), df_col, d_name)"
   ]
  },
  {
   "cell_type": "code",
   "execution_count": 19,
   "metadata": {
    "colab": {
     "base_uri": "https://localhost:8080/"
    },
    "id": "LC8xPdDHTbGO",
    "outputId": "8f0e7c10-9928-4de6-b7fc-f5fab2ee8904"
   },
   "outputs": [
    {
     "name": "stdout",
     "output_type": "stream",
     "text": [
      "Всего удалено 143 значений, заменено 4277 что вместе составляет 33.24% от общей базы\n"
     ]
    }
   ],
   "source": [
    "df_union3 = change(0.5,10, create(df_rows), df_col, d_name)"
   ]
  },
  {
   "cell_type": "code",
   "execution_count": 20,
   "metadata": {},
   "outputs": [
    {
     "name": "stdout",
     "output_type": "stream",
     "text": [
      "Всего удалено 143 значений, заменено 8683 что вместе составляет 66.37% от общей базы\n"
     ]
    }
   ],
   "source": [
    "df_union4 = change(0,5, create(df_rows), df_col, d_name)"
   ]
  },
  {
   "cell_type": "code",
   "execution_count": 60,
   "metadata": {
    "colab": {
     "base_uri": "https://localhost:8080/",
     "height": 210
    },
    "id": "ZOqXv5JOVN7K",
    "outputId": "3d3490ef-f184-41d7-82f1-14d81c46e9dd"
   },
   "outputs": [],
   "source": [
    "#Стандартизируем все датасеты в части вещественных признаков (приведем к матожиданию 0 и стандартному отклонению 1), \n",
    "#по категориальному \"Угол нашивки\" используем функцию OrdinalEncorder\n",
    "\n",
    "cont_cols = ['Шаг нашивки',\n",
    " 'Плотность нашивки',\n",
    " 'Соотношение матрица-наполнитель',\n",
    " 'Плотность, кг/м3',\n",
    " 'модуль упругости, ГПа',\n",
    " 'Количество отвердителя, м.%',\n",
    " 'Содержание эпоксидных групп,%_2',\n",
    " 'Температура вспышки, С_2',\n",
    " 'Поверхностная плотность, г/м2',\n",
    " 'Модуль упругости при растяжении, ГПа',\n",
    " 'Прочность при растяжении, МПа',\n",
    " 'Потребление смолы, г/м2']\n",
    "\n",
    "categorical_cols = ['Угол нашивки, град']\n",
    "\n",
    "mask_prep = ColumnTransformer(transformers=[(\"categorical\", OrdinalEncoder(), categorical_cols), (\"continuous\", StandardScaler(), cont_cols)])\n",
    "\n",
    "\n",
    "df_main_prep = pd.DataFrame(mask_prep.fit_transform(df), columns=df_col)\n",
    "#df_prep.describe().loc[['min', 'max', 'mean', 'std'], :].style.format(precision=6)\n",
    "df_union2_prep = pd.DataFrame(mask_prep.fit_transform(df_union2), columns=df_col)\n",
    "#df_aug.describe().loc[['min', 'max', 'mean', 'std'], :].style.format(precision=6)\n",
    "df_union3_prep = pd.DataFrame(mask_prep.fit_transform(df_union3), columns=df_col)\n",
    "df_union4_prep = pd.DataFrame(mask_prep.fit_transform(df_union4), columns=df_col)"
   ]
  },
  {
   "cell_type": "markdown",
   "metadata": {
    "id": "64Vt8ceguEgf"
   },
   "source": [
    "# 4. Моделирование"
   ]
  },
  {
   "cell_type": "markdown",
   "metadata": {},
   "source": [
    "## 4.1 Подготовка моделей"
   ]
  },
  {
   "cell_type": "markdown",
   "metadata": {},
   "source": [
    "Подготовим 3 физических модели для исследования\n",
    "1. Основаня модель, которая будет применена ко всем наборам исходных данных\n",
    "   1.1. Y - 'Модуль упругости при растяжении, ГПа', X - все остальные столбцы\n",
    "   1.2. Y - 'Прочность при растяжении, МПа',        X - все остальные столбцы\n",
    "   1.3. Y - 'Соотношение матрица-наполнитель',      X - все остальные столбцы\n",
    "   \n",
    "2. Предполагаемая физическая модель №1. \n",
    "   Основана на предположении, что все эсперименты проводились при одинаковых параметрах наполнителя. \n",
    "   Модель будет применена только к основному набору исходных данных\n",
    "   \n",
    "   2.1. Y - 'Модуль упругости при растяжении, ГПа', X - все остальные столбцы, за вычетом: Количество отвердителя, м.%,                                                                 Содержание эпоксидных групп,%_2, Температура вспышки, С_2 \n",
    "   \n",
    "   2.2. Y - 'Прочность при растяжении, МПа',        X - все остальные столбцы, за вычетом: Количество отвердителя, м.%,                                                                 Содержание эпоксидных групп,%_2, Температура вспышки, С_2 \n",
    "   \n",
    "   2.3. Y - 'Соотношение матрица-наполнитель',      X - все остальные столбцы, за вычетом Количество отвердителя, м.%,                                                                 Содержание эпоксидных групп,%_2, Температура вспышки, С_2 \n",
    "   \n",
    "3. Предполагаемая физическая модель №2.\n",
    "   Основана на том, что параметры исходной нити никак не могут зависеть от параметров смолы и могут не зависеть от выходых данных эсперимента \n",
    "   \n",
    "   3.1. Y - 'Модуль упругости при растяжении, ГПа', X - 'Угол нашивки, град',\n",
    "                                                        'Шаг нашивки',\n",
    "                                                        'Плотность нашивки', \n",
    "                                                        'Поверхностная плотность, г/м2',\n",
    "                                                        'Прочность при растяжении, МПа',\n",
    "                                                        'Потребление смолы, г/м2' \n",
    "   \n",
    "   3.2. Y - 'Прочность при растяжении, МПа',        X - 'Угол нашивки, град',\n",
    "                                                        'Шаг нашивки',\n",
    "                                                        'Плотность нашивки',\n",
    "                                                        'Поверхностная плотность, г/м2',\n",
    "                                                        'Модуль упругости при растяжении, ГПа',\n",
    "                                                        'Потребление смолы, г/м2' \n",
    "   "
   ]
  },
  {
   "cell_type": "code",
   "execution_count": 24,
   "metadata": {},
   "outputs": [],
   "source": [
    "#Модели 1\n",
    "Mod_11_X = ['Угол нашивки, град',\n",
    "            'Шаг нашивки',\n",
    "            'Плотность нашивки',\n",
    "            'Соотношение матрица-наполнитель',\n",
    "            'Плотность, кг/м3',\n",
    "            'модуль упругости, ГПа',\n",
    "            'Количество отвердителя, м.%',\n",
    "            'Содержание эпоксидных групп,%_2',\n",
    "            'Температура вспышки, С_2',\n",
    "            'Поверхностная плотность, г/м2',\n",
    "            'Прочность при растяжении, МПа',\n",
    "            'Потребление смолы, г/м2']\n",
    "Mod_11_y = ['Модуль упругости при растяжении, ГПа'] \n",
    "\n",
    "Mod_12_X = ['Угол нашивки, град',\n",
    "            'Шаг нашивки',\n",
    "            'Плотность нашивки',\n",
    "            'Соотношение матрица-наполнитель',\n",
    "            'Плотность, кг/м3',\n",
    "            'модуль упругости, ГПа',\n",
    "            'Количество отвердителя, м.%',\n",
    "            'Содержание эпоксидных групп,%_2',\n",
    "            'Температура вспышки, С_2',\n",
    "            'Поверхностная плотность, г/м2',\n",
    "            'Модуль упругости при растяжении, ГПа',\n",
    "            'Потребление смолы, г/м2']\n",
    "Mod_12_y = ['Прочность при растяжении, МПа'] \n",
    "\n",
    "Mod_13_X = ['Угол нашивки, град',\n",
    "            'Шаг нашивки',\n",
    "            'Плотность нашивки',\n",
    "            'Плотность, кг/м3',\n",
    "            'модуль упругости, ГПа',\n",
    "            'Количество отвердителя, м.%',\n",
    "            'Содержание эпоксидных групп,%_2',\n",
    "            'Температура вспышки, С_2',\n",
    "            'Поверхностная плотность, г/м2',\n",
    "            'Модуль упругости при растяжении, ГПа',\n",
    "            'Прочность при растяжении, МПа',\n",
    "            'Потребление смолы, г/м2']\n",
    "Mod_13_y = ['Соотношение матрица-наполнитель']    "
   ]
  },
  {
   "cell_type": "code",
   "execution_count": 25,
   "metadata": {},
   "outputs": [],
   "source": [
    "#Модели 2\n",
    "Mod_21_X = ['Угол нашивки, град',\n",
    "            'Шаг нашивки',\n",
    "            'Плотность нашивки',\n",
    "            'Соотношение матрица-наполнитель',\n",
    "            'Плотность, кг/м3',\n",
    "            'модуль упругости, ГПа',\n",
    "            'Поверхностная плотность, г/м2',\n",
    "            'Прочность при растяжении, МПа',\n",
    "            'Потребление смолы, г/м2']\n",
    "\n",
    "Mod_21_y = ['Модуль упругости при растяжении, ГПа'] \n",
    "\n",
    "\n",
    "\n",
    "Mod_22_X = ['Угол нашивки, град',\n",
    "            'Шаг нашивки',\n",
    "            'Плотность нашивки',\n",
    "            'Соотношение матрица-наполнитель',\n",
    "            'Плотность, кг/м3',\n",
    "            'модуль упругости, ГПа',\n",
    "            'Поверхностная плотность, г/м2',\n",
    "            'Модуль упругости при растяжении, ГПа',\n",
    "            'Потребление смолы, г/м2']\n",
    "\n",
    "Mod_22_y = ['Прочность при растяжении, МПа']\n",
    "\n",
    "Mod_23_X = ['Угол нашивки, град',\n",
    "            'Шаг нашивки',\n",
    "            'Плотность нашивки',\n",
    "            'Прочность при растяжении, МПа',\n",
    "            'Плотность, кг/м3',\n",
    "            'модуль упругости, ГПа',\n",
    "            'Поверхностная плотность, г/м2',\n",
    "            'Модуль упругости при растяжении, ГПа',\n",
    "            'Потребление смолы, г/м2']\n",
    "\n",
    "Mod_23_y = ['Соотношение матрица-наполнитель']"
   ]
  },
  {
   "cell_type": "code",
   "execution_count": 26,
   "metadata": {},
   "outputs": [],
   "source": [
    "#Модели 3\n",
    "Mod_31_X= ['Угол нашивки, град',\n",
    "           'Шаг нашивки',\n",
    "           'Плотность нашивки', \n",
    "           'Поверхностная плотность, г/м2',\n",
    "           'Прочность при растяжении, МПа',\n",
    "           'Потребление смолы, г/м2']\n",
    "Mod_31_y = ['Модуль упругости при растяжении, ГПа'] \n",
    "\n",
    "Mod_32_X = ['Угол нашивки, град',\n",
    "            'Шаг нашивки',\n",
    "            'Плотность нашивки',\n",
    "            'Поверхностная плотность, г/м2',\n",
    "            'Модуль упругости при растяжении, ГПа',\n",
    "            'Потребление смолы, г/м2']\n",
    "Mod_32_y = ['Прочность при растяжении, МПа']"
   ]
  },
  {
   "cell_type": "markdown",
   "metadata": {},
   "source": [
    "## 4.2. Подготовка данных"
   ]
  },
  {
   "cell_type": "code",
   "execution_count": 27,
   "metadata": {},
   "outputs": [],
   "source": [
    "#Модели 1\n",
    "\n",
    "#Основые данные\n",
    "M11_X_train, M11_X_test, M11_y_train, M11_y_test = train_test_split(df_main_prep[Mod_11_X], df_main_prep[Mod_11_y], test_size=0.3)\n",
    "M12_X_train, M12_X_test, M12_y_train, M12_y_test = train_test_split(df_main_prep[Mod_12_X], df_main_prep[Mod_12_y], test_size=0.3)\n",
    "M13_X_train, M13_X_test, M13_y_train, M13_y_test = train_test_split(df_main_prep[Mod_13_X], df_main_prep[Mod_13_y], test_size=0.3)\n",
    "\n",
    "# Данные 2\n",
    "M11_X_train_2, M11_X_test_2, M11_y_train_2, M11_y_test_2 = train_test_split(df_union2_prep[Mod_11_X], df_union2_prep[Mod_11_y], test_size=0.3)\n",
    "M12_X_train_2, M12_X_test_2, M12_y_train_2, M12_y_test_2 = train_test_split(df_union2_prep[Mod_12_X], df_union2_prep[Mod_12_y], test_size=0.3)\n",
    "M13_X_train_2, M13_X_test_2, M13_y_train_2, M13_y_test_2 = train_test_split(df_union2_prep[Mod_13_X], df_union2_prep[Mod_13_y], test_size=0.3)\n",
    "\n",
    "# Данные 3\n",
    "M11_X_train_3, M11_X_test_3, M11_y_train_3, M11_y_test_3 = train_test_split(df_union3_prep[Mod_11_X], df_union3_prep[Mod_11_y], test_size=0.3)\n",
    "M12_X_train_3, M12_X_test_3, M12_y_train_3, M12_y_test_3 = train_test_split(df_union3_prep[Mod_12_X], df_union3_prep[Mod_12_y], test_size=0.3)\n",
    "M13_X_train_3, M13_X_test_3, M13_y_train_3, M13_y_test_3 = train_test_split(df_union3_prep[Mod_13_X], df_union3_prep[Mod_13_y], test_size=0.3)\n",
    "\n",
    "# Данные 4\n",
    "M11_X_train_4, M11_X_test_4, M11_y_train_4, M11_y_test_4 = train_test_split(df_union4_prep[Mod_11_X], df_union4_prep[Mod_11_y], test_size=0.3)\n",
    "M12_X_train_4, M12_X_test_4, M12_y_train_4, M12_y_test_4 = train_test_split(df_union4_prep[Mod_12_X], df_union4_prep[Mod_12_y], test_size=0.3)\n",
    "M13_X_train_4, M13_X_test_4, M13_y_train_4, M13_y_test_4 = train_test_split(df_union4_prep[Mod_13_X], df_union4_prep[Mod_13_y], test_size=0.3)\n",
    "\n",
    "#Модели 2\n",
    "M21_X_train, M21_X_test, M21_y_train, M21_y_test = train_test_split(df_main_prep[Mod_21_X], df_main_prep[Mod_21_y], test_size=0.3)\n",
    "M22_X_train, M22_X_test, M22_y_train, M22_y_test = train_test_split(df_main_prep[Mod_22_X], df_main_prep[Mod_22_y], test_size=0.3)\n",
    "M23_X_train, M23_X_test, M23_y_train, M23_y_test = train_test_split(df_main_prep[Mod_23_X], df_main_prep[Mod_23_y], test_size=0.3)\n",
    "\n",
    "#Модели 3\n",
    "M31_X_train, M31_X_test, M31_y_train, M31_y_test = train_test_split(df_main_prep[Mod_31_X], df_main_prep[Mod_31_y], test_size=0.3)\n",
    "M32_X_train, M32_X_test, M32_y_train, M32_y_test = train_test_split(df_main_prep[Mod_32_X], df_main_prep[Mod_32_y], test_size=0.3)"
   ]
  },
  {
   "cell_type": "markdown",
   "metadata": {
    "id": "4psxFaPEuKTS"
   },
   "source": [
    "## 4.2. Базовые модели"
   ]
  },
  {
   "cell_type": "code",
   "execution_count": 28,
   "metadata": {
    "id": "ImvETX9aw5xw"
   },
   "outputs": [],
   "source": [
    "#Функция прогнозирования набора данных по всем моделям\n",
    "def make_predict(models, X, y, r, mark):\n",
    "    print(f'Рассматриваю модель {mark}')\n",
    "    mistakes = ['r2', \n",
    "                'max_error', \n",
    "                'neg_root_mean_squared_error', \n",
    "                'neg_mean_absolute_error', \n",
    "                'neg_mean_absolute_percentage_error']\n",
    "    results = pd.DataFrame()\n",
    "    cv = KFold(10, shuffle=True, random_state=r)\n",
    "    for model_name, model in models.items():\n",
    "        \n",
    "        t = cross_validate(model, X, np.ravel(y,order='C'), cv=cv, scoring=mistakes)\n",
    "        \n",
    "        results.loc[model_name, 'R2'] = t['test_r2'].mean()\n",
    "        results.loc[model_name, 'RMSE'] = (t['test_neg_root_mean_squared_error'].mean()).round(6)\n",
    "        results.loc[model_name, 'MAE'] = (t['test_neg_mean_absolute_error'].mean()).round(6)\n",
    "        results.loc[model_name, 'MAPE'] = (t['test_neg_mean_absolute_percentage_error'].mean()).round(6)\n",
    "        results.loc[model_name, 'max_error'] = (t['test_max_error'].mean()).round(6)\n",
    "        results.loc[model_name, 'mark'] = mark\n",
    "    return results\n"
   ]
  },
  {
   "cell_type": "code",
   "execution_count": 33,
   "metadata": {
    "colab": {
     "base_uri": "https://localhost:8080/"
    },
    "id": "EY18I_MJD3Nr",
    "outputId": "afabe9a0-aa40-441c-dccf-eb41ab5a937e"
   },
   "outputs": [
    {
     "name": "stdout",
     "output_type": "stream",
     "text": [
      "Рассматриваю модель М11 Исходная таблица\n",
      "Рассматриваю модель М11 Набор 1,0-20\n",
      "Рассматриваю модель М11 Набор 0,5-10\n",
      "Рассматриваю модель М11 Набор 0,0-5\n",
      "Рассматриваю модель М12 Исходная таблица\n",
      "Рассматриваю модель М12 Набор 1,0-20\n",
      "Рассматриваю модель М12 Набор 0,5-10\n",
      "Рассматриваю модель М12 Набор 0,0-5\n",
      "Рассматриваю модель М13 Исходная таблица\n",
      "Рассматриваю модель М13 Набор 1,0-20\n",
      "Рассматриваю модель М13 Набор 0,5-10\n",
      "Рассматриваю модель М13 Набор 0,0-5\n",
      "Рассматриваю модель М21 Исходная таблица\n",
      "Рассматриваю модель М22 Исходная таблица\n",
      "Рассматриваю модель М23 Исходная таблица\n",
      "Рассматриваю модель М31 Исходная таблица\n",
      "Рассматриваю модель М32 Исходная таблица\n"
     ]
    }
   ],
   "source": [
    "random_state = 42\n",
    "res_as_is_M11 = pd.DataFrame()\n",
    "res_as_is_M12 = pd.DataFrame()\n",
    "res_as_is_M13 = pd.DataFrame()\n",
    "res_as_is_others = pd.DataFrame()\n",
    "\n",
    "\n",
    "models = {\n",
    "    'LinearRegression': LinearRegression(),\n",
    "    'Ridge': Ridge(),\n",
    "    'Lasso': Lasso(),\n",
    "    'SVR': SVR(),\n",
    "    'DecisionTreeRegressor': DecisionTreeRegressor(random_state=random_state),\n",
    "    'RandomForestRegressor': RandomForestRegressor(random_state=random_state),\n",
    "    'AdaBoostRegressor': AdaBoostRegressor(random_state=random_state, n_estimators=100)}\n",
    "\n",
    "#прогноз модуля упругости при растяжении (Model1)\n",
    "res_as_is_M11  = pd.concat([res_as_is_M11,\n",
    "                         make_predict(models, M11_X_train, M11_y_train, random_state,'М11 Исходная таблица'),\n",
    "                         make_predict(models, M11_X_train_2, M11_y_train_2, random_state,'М11 Набор 1,0-20'),\n",
    "                         make_predict(models, M11_X_train_3, M11_y_train_3, random_state,'М11 Набор 0,5-10'),\n",
    "                         make_predict(models, M11_X_train_4, M11_y_train_4, random_state,'М11 Набор 0,0-5')])\n",
    "\n",
    "res_as_is_M12  = pd.concat([res_as_is_M12,\n",
    "                         make_predict(models, M12_X_train, M12_y_train, random_state,'М12 Исходная таблица'),\n",
    "                         make_predict(models, M12_X_train_2, M12_y_train_2, random_state,'М12 Набор 1,0-20'),\n",
    "                         make_predict(models, M12_X_train_3, M12_y_train_3, random_state,'М12 Набор 0,5-10'),\n",
    "                         make_predict(models, M12_X_train_4, M12_y_train_4, random_state,'М12 Набор 0,0-5')])\n",
    "\n",
    "res_as_is_M13  = pd.concat([res_as_is_M13,                       \n",
    "                         make_predict(models, M13_X_train, M13_y_train, random_state,'М13 Исходная таблица'),                                                 \n",
    "                         make_predict(models, M13_X_train_2, M13_y_train_2, random_state,'М13 Набор 1,0-20'),                                                  \n",
    "                         make_predict(models, M13_X_train_3, M13_y_train_3, random_state,'М13 Набор 0,5-10'),                        \n",
    "                         make_predict(models, M13_X_train_4, M13_y_train_4, random_state,'М13 Набор 0,0-5')])\n",
    "\n",
    "res_as_is_others= pd.concat([res_as_is_others,\n",
    "                         make_predict(models, M21_X_train, M21_y_train, random_state,'М21 Исходная таблица'),\n",
    "                         make_predict(models, M22_X_train, M22_y_train, random_state,'М22 Исходная таблица'),\n",
    "                         make_predict(models, M23_X_train, M23_y_train, random_state,'М23 Исходная таблица'),\n",
    "                         make_predict(models, M31_X_train, M31_y_train, random_state,'М31 Исходная таблица'),\n",
    "                         make_predict(models, M32_X_train, M32_y_train, random_state,'М32 Исходная таблица')])\n",
    "\n",
    "res_as_is_M11 = res_as_is_M11.sort_values(by='R2', ascending=False)\n",
    "res_as_is_M12 = res_as_is_M12.sort_values(by='R2', ascending=False)\n",
    "res_as_is_M13 = res_as_is_M13.sort_values(by='R2', ascending=False)\n",
    "res_as_is_others = res_as_is_others.sort_values(by='R2', ascending=False)\n"
   ]
  },
  {
   "cell_type": "code",
   "execution_count": 34,
   "metadata": {
    "colab": {
     "base_uri": "https://localhost:8080/",
     "height": 802
    },
    "id": "JfLrU8bI3h-i",
    "outputId": "2745bfc0-2a58-44ed-fb7b-eb683129ca10"
   },
   "outputs": [
    {
     "data": {
      "text/html": [
       "<div>\n",
       "<style scoped>\n",
       "    .dataframe tbody tr th:only-of-type {\n",
       "        vertical-align: middle;\n",
       "    }\n",
       "\n",
       "    .dataframe tbody tr th {\n",
       "        vertical-align: top;\n",
       "    }\n",
       "\n",
       "    .dataframe thead th {\n",
       "        text-align: right;\n",
       "    }\n",
       "</style>\n",
       "<table border=\"1\" class=\"dataframe\">\n",
       "  <thead>\n",
       "    <tr style=\"text-align: right;\">\n",
       "      <th></th>\n",
       "      <th>R2</th>\n",
       "      <th>RMSE</th>\n",
       "      <th>MAE</th>\n",
       "      <th>MAPE</th>\n",
       "      <th>max_error</th>\n",
       "      <th>mark</th>\n",
       "    </tr>\n",
       "  </thead>\n",
       "  <tbody>\n",
       "    <tr>\n",
       "      <th>SVR</th>\n",
       "      <td>0.732032</td>\n",
       "      <td>-0.500608</td>\n",
       "      <td>-0.310405</td>\n",
       "      <td>-0.987108</td>\n",
       "      <td>-2.071964</td>\n",
       "      <td>М11 Набор 0,0-5</td>\n",
       "    </tr>\n",
       "    <tr>\n",
       "      <th>RandomForestRegressor</th>\n",
       "      <td>0.712941</td>\n",
       "      <td>-0.518808</td>\n",
       "      <td>-0.316866</td>\n",
       "      <td>-1.192213</td>\n",
       "      <td>-2.197791</td>\n",
       "      <td>М11 Набор 0,0-5</td>\n",
       "    </tr>\n",
       "    <tr>\n",
       "      <th>AdaBoostRegressor</th>\n",
       "      <td>0.594065</td>\n",
       "      <td>-0.619467</td>\n",
       "      <td>-0.454353</td>\n",
       "      <td>-1.195264</td>\n",
       "      <td>-2.341459</td>\n",
       "      <td>М11 Набор 0,0-5</td>\n",
       "    </tr>\n",
       "    <tr>\n",
       "      <th>DecisionTreeRegressor</th>\n",
       "      <td>0.478404</td>\n",
       "      <td>-0.694045</td>\n",
       "      <td>-0.394905</td>\n",
       "      <td>-1.705407</td>\n",
       "      <td>-2.992976</td>\n",
       "      <td>М11 Набор 0,0-5</td>\n",
       "    </tr>\n",
       "    <tr>\n",
       "      <th>Ridge</th>\n",
       "      <td>0.384836</td>\n",
       "      <td>-0.762507</td>\n",
       "      <td>-0.583494</td>\n",
       "      <td>-2.229144</td>\n",
       "      <td>-2.374227</td>\n",
       "      <td>М11 Набор 0,0-5</td>\n",
       "    </tr>\n",
       "    <tr>\n",
       "      <th>LinearRegression</th>\n",
       "      <td>0.384730</td>\n",
       "      <td>-0.762538</td>\n",
       "      <td>-0.583356</td>\n",
       "      <td>-2.232110</td>\n",
       "      <td>-2.375895</td>\n",
       "      <td>М11 Набор 0,0-5</td>\n",
       "    </tr>\n",
       "    <tr>\n",
       "      <th>RandomForestRegressor</th>\n",
       "      <td>0.138082</td>\n",
       "      <td>-0.933748</td>\n",
       "      <td>-0.694408</td>\n",
       "      <td>-1.985408</td>\n",
       "      <td>-2.888973</td>\n",
       "      <td>М11 Набор 0,5-10</td>\n",
       "    </tr>\n",
       "    <tr>\n",
       "      <th>AdaBoostRegressor</th>\n",
       "      <td>0.064782</td>\n",
       "      <td>-0.973187</td>\n",
       "      <td>-0.740467</td>\n",
       "      <td>-2.337671</td>\n",
       "      <td>-2.949579</td>\n",
       "      <td>М11 Набор 0,5-10</td>\n",
       "    </tr>\n",
       "    <tr>\n",
       "      <th>Ridge</th>\n",
       "      <td>0.060989</td>\n",
       "      <td>-0.977880</td>\n",
       "      <td>-0.742456</td>\n",
       "      <td>-2.208561</td>\n",
       "      <td>-3.073956</td>\n",
       "      <td>М11 Набор 0,5-10</td>\n",
       "    </tr>\n",
       "    <tr>\n",
       "      <th>LinearRegression</th>\n",
       "      <td>0.060892</td>\n",
       "      <td>-0.977925</td>\n",
       "      <td>-0.742504</td>\n",
       "      <td>-2.211080</td>\n",
       "      <td>-3.073916</td>\n",
       "      <td>М11 Набор 0,5-10</td>\n",
       "    </tr>\n",
       "    <tr>\n",
       "      <th>SVR</th>\n",
       "      <td>0.060739</td>\n",
       "      <td>-0.976852</td>\n",
       "      <td>-0.750298</td>\n",
       "      <td>-2.626951</td>\n",
       "      <td>-3.008106</td>\n",
       "      <td>М11 Набор 0,5-10</td>\n",
       "    </tr>\n",
       "    <tr>\n",
       "      <th>Lasso</th>\n",
       "      <td>-0.006137</td>\n",
       "      <td>-1.013968</td>\n",
       "      <td>-0.784348</td>\n",
       "      <td>-1.123135</td>\n",
       "      <td>-3.035418</td>\n",
       "      <td>М11 Набор 0,5-10</td>\n",
       "    </tr>\n",
       "  </tbody>\n",
       "</table>\n",
       "</div>"
      ],
      "text/plain": [
       "                             R2      RMSE       MAE      MAPE  max_error  \\\n",
       "SVR                    0.732032 -0.500608 -0.310405 -0.987108  -2.071964   \n",
       "RandomForestRegressor  0.712941 -0.518808 -0.316866 -1.192213  -2.197791   \n",
       "AdaBoostRegressor      0.594065 -0.619467 -0.454353 -1.195264  -2.341459   \n",
       "DecisionTreeRegressor  0.478404 -0.694045 -0.394905 -1.705407  -2.992976   \n",
       "Ridge                  0.384836 -0.762507 -0.583494 -2.229144  -2.374227   \n",
       "LinearRegression       0.384730 -0.762538 -0.583356 -2.232110  -2.375895   \n",
       "RandomForestRegressor  0.138082 -0.933748 -0.694408 -1.985408  -2.888973   \n",
       "AdaBoostRegressor      0.064782 -0.973187 -0.740467 -2.337671  -2.949579   \n",
       "Ridge                  0.060989 -0.977880 -0.742456 -2.208561  -3.073956   \n",
       "LinearRegression       0.060892 -0.977925 -0.742504 -2.211080  -3.073916   \n",
       "SVR                    0.060739 -0.976852 -0.750298 -2.626951  -3.008106   \n",
       "Lasso                 -0.006137 -1.013968 -0.784348 -1.123135  -3.035418   \n",
       "\n",
       "                                   mark  \n",
       "SVR                     М11 Набор 0,0-5  \n",
       "RandomForestRegressor   М11 Набор 0,0-5  \n",
       "AdaBoostRegressor       М11 Набор 0,0-5  \n",
       "DecisionTreeRegressor   М11 Набор 0,0-5  \n",
       "Ridge                   М11 Набор 0,0-5  \n",
       "LinearRegression        М11 Набор 0,0-5  \n",
       "RandomForestRegressor  М11 Набор 0,5-10  \n",
       "AdaBoostRegressor      М11 Набор 0,5-10  \n",
       "Ridge                  М11 Набор 0,5-10  \n",
       "LinearRegression       М11 Набор 0,5-10  \n",
       "SVR                    М11 Набор 0,5-10  \n",
       "Lasso                  М11 Набор 0,5-10  "
      ]
     },
     "execution_count": 34,
     "metadata": {},
     "output_type": "execute_result"
    }
   ],
   "source": [
    "res_as_is_M11[:12]"
   ]
  },
  {
   "cell_type": "markdown",
   "metadata": {},
   "source": [
    "Вывод по показателю 'Модуль упругости при растяжении, ГПа\".\n",
    "\n",
    "Более-менее хорошие результаты по прогнозированию показателя можно достичь только при изменении исходных данных более 60%. Ненулевой коэффиицент детерминации по показателю можно достичь при 37% изменении исходных данных"
   ]
  },
  {
   "cell_type": "code",
   "execution_count": 35,
   "metadata": {},
   "outputs": [
    {
     "data": {
      "text/html": [
       "<div>\n",
       "<style scoped>\n",
       "    .dataframe tbody tr th:only-of-type {\n",
       "        vertical-align: middle;\n",
       "    }\n",
       "\n",
       "    .dataframe tbody tr th {\n",
       "        vertical-align: top;\n",
       "    }\n",
       "\n",
       "    .dataframe thead th {\n",
       "        text-align: right;\n",
       "    }\n",
       "</style>\n",
       "<table border=\"1\" class=\"dataframe\">\n",
       "  <thead>\n",
       "    <tr style=\"text-align: right;\">\n",
       "      <th></th>\n",
       "      <th>R2</th>\n",
       "      <th>RMSE</th>\n",
       "      <th>MAE</th>\n",
       "      <th>MAPE</th>\n",
       "      <th>max_error</th>\n",
       "      <th>mark</th>\n",
       "    </tr>\n",
       "  </thead>\n",
       "  <tbody>\n",
       "    <tr>\n",
       "      <th>SVR</th>\n",
       "      <td>0.972306</td>\n",
       "      <td>-0.159384</td>\n",
       "      <td>-0.109098</td>\n",
       "      <td>-0.805159</td>\n",
       "      <td>-0.607558</td>\n",
       "      <td>М12 Набор 0,0-5</td>\n",
       "    </tr>\n",
       "    <tr>\n",
       "      <th>RandomForestRegressor</th>\n",
       "      <td>0.966507</td>\n",
       "      <td>-0.160983</td>\n",
       "      <td>-0.046615</td>\n",
       "      <td>-0.411111</td>\n",
       "      <td>-1.003218</td>\n",
       "      <td>М12 Набор 0,0-5</td>\n",
       "    </tr>\n",
       "    <tr>\n",
       "      <th>AdaBoostRegressor</th>\n",
       "      <td>0.961924</td>\n",
       "      <td>-0.186432</td>\n",
       "      <td>-0.119875</td>\n",
       "      <td>-2.407256</td>\n",
       "      <td>-0.849119</td>\n",
       "      <td>М12 Набор 0,0-5</td>\n",
       "    </tr>\n",
       "    <tr>\n",
       "      <th>DecisionTreeRegressor</th>\n",
       "      <td>0.951531</td>\n",
       "      <td>-0.192455</td>\n",
       "      <td>-0.047477</td>\n",
       "      <td>-0.393700</td>\n",
       "      <td>-1.205144</td>\n",
       "      <td>М12 Набор 0,0-5</td>\n",
       "    </tr>\n",
       "    <tr>\n",
       "      <th>Ridge</th>\n",
       "      <td>0.795111</td>\n",
       "      <td>-0.447669</td>\n",
       "      <td>-0.353094</td>\n",
       "      <td>-2.761112</td>\n",
       "      <td>-1.147993</td>\n",
       "      <td>М12 Набор 0,0-5</td>\n",
       "    </tr>\n",
       "    <tr>\n",
       "      <th>LinearRegression</th>\n",
       "      <td>0.795079</td>\n",
       "      <td>-0.447703</td>\n",
       "      <td>-0.353067</td>\n",
       "      <td>-2.765621</td>\n",
       "      <td>-1.149511</td>\n",
       "      <td>М12 Набор 0,0-5</td>\n",
       "    </tr>\n",
       "    <tr>\n",
       "      <th>RandomForestRegressor</th>\n",
       "      <td>0.770867</td>\n",
       "      <td>-0.468756</td>\n",
       "      <td>-0.313761</td>\n",
       "      <td>-2.491481</td>\n",
       "      <td>-1.817971</td>\n",
       "      <td>М12 Набор 0,5-10</td>\n",
       "    </tr>\n",
       "    <tr>\n",
       "      <th>AdaBoostRegressor</th>\n",
       "      <td>0.681284</td>\n",
       "      <td>-0.554474</td>\n",
       "      <td>-0.449901</td>\n",
       "      <td>-5.577084</td>\n",
       "      <td>-1.603932</td>\n",
       "      <td>М12 Набор 0,5-10</td>\n",
       "    </tr>\n",
       "    <tr>\n",
       "      <th>DecisionTreeRegressor</th>\n",
       "      <td>0.573379</td>\n",
       "      <td>-0.639125</td>\n",
       "      <td>-0.346428</td>\n",
       "      <td>-1.816141</td>\n",
       "      <td>-2.527985</td>\n",
       "      <td>М12 Набор 0,5-10</td>\n",
       "    </tr>\n",
       "    <tr>\n",
       "      <th>SVR</th>\n",
       "      <td>0.570097</td>\n",
       "      <td>-0.645288</td>\n",
       "      <td>-0.464160</td>\n",
       "      <td>-2.687721</td>\n",
       "      <td>-1.961536</td>\n",
       "      <td>М12 Набор 0,5-10</td>\n",
       "    </tr>\n",
       "    <tr>\n",
       "      <th>Ridge</th>\n",
       "      <td>0.469435</td>\n",
       "      <td>-0.716915</td>\n",
       "      <td>-0.550591</td>\n",
       "      <td>-2.324435</td>\n",
       "      <td>-1.846426</td>\n",
       "      <td>М12 Набор 0,5-10</td>\n",
       "    </tr>\n",
       "    <tr>\n",
       "      <th>LinearRegression</th>\n",
       "      <td>0.469375</td>\n",
       "      <td>-0.716954</td>\n",
       "      <td>-0.550657</td>\n",
       "      <td>-2.327136</td>\n",
       "      <td>-1.847176</td>\n",
       "      <td>М12 Набор 0,5-10</td>\n",
       "    </tr>\n",
       "    <tr>\n",
       "      <th>RandomForestRegressor</th>\n",
       "      <td>0.184794</td>\n",
       "      <td>-0.884456</td>\n",
       "      <td>-0.687887</td>\n",
       "      <td>-1.977221</td>\n",
       "      <td>-2.275532</td>\n",
       "      <td>М12 Набор 1,0-20</td>\n",
       "    </tr>\n",
       "    <tr>\n",
       "      <th>Ridge</th>\n",
       "      <td>0.077052</td>\n",
       "      <td>-0.942141</td>\n",
       "      <td>-0.751357</td>\n",
       "      <td>-1.964850</td>\n",
       "      <td>-2.323128</td>\n",
       "      <td>М12 Набор 1,0-20</td>\n",
       "    </tr>\n",
       "    <tr>\n",
       "      <th>LinearRegression</th>\n",
       "      <td>0.076999</td>\n",
       "      <td>-0.942167</td>\n",
       "      <td>-0.751364</td>\n",
       "      <td>-1.967105</td>\n",
       "      <td>-2.323505</td>\n",
       "      <td>М12 Набор 1,0-20</td>\n",
       "    </tr>\n",
       "  </tbody>\n",
       "</table>\n",
       "</div>"
      ],
      "text/plain": [
       "                             R2      RMSE       MAE      MAPE  max_error  \\\n",
       "SVR                    0.972306 -0.159384 -0.109098 -0.805159  -0.607558   \n",
       "RandomForestRegressor  0.966507 -0.160983 -0.046615 -0.411111  -1.003218   \n",
       "AdaBoostRegressor      0.961924 -0.186432 -0.119875 -2.407256  -0.849119   \n",
       "DecisionTreeRegressor  0.951531 -0.192455 -0.047477 -0.393700  -1.205144   \n",
       "Ridge                  0.795111 -0.447669 -0.353094 -2.761112  -1.147993   \n",
       "LinearRegression       0.795079 -0.447703 -0.353067 -2.765621  -1.149511   \n",
       "RandomForestRegressor  0.770867 -0.468756 -0.313761 -2.491481  -1.817971   \n",
       "AdaBoostRegressor      0.681284 -0.554474 -0.449901 -5.577084  -1.603932   \n",
       "DecisionTreeRegressor  0.573379 -0.639125 -0.346428 -1.816141  -2.527985   \n",
       "SVR                    0.570097 -0.645288 -0.464160 -2.687721  -1.961536   \n",
       "Ridge                  0.469435 -0.716915 -0.550591 -2.324435  -1.846426   \n",
       "LinearRegression       0.469375 -0.716954 -0.550657 -2.327136  -1.847176   \n",
       "RandomForestRegressor  0.184794 -0.884456 -0.687887 -1.977221  -2.275532   \n",
       "Ridge                  0.077052 -0.942141 -0.751357 -1.964850  -2.323128   \n",
       "LinearRegression       0.076999 -0.942167 -0.751364 -1.967105  -2.323505   \n",
       "\n",
       "                                   mark  \n",
       "SVR                     М12 Набор 0,0-5  \n",
       "RandomForestRegressor   М12 Набор 0,0-5  \n",
       "AdaBoostRegressor       М12 Набор 0,0-5  \n",
       "DecisionTreeRegressor   М12 Набор 0,0-5  \n",
       "Ridge                   М12 Набор 0,0-5  \n",
       "LinearRegression        М12 Набор 0,0-5  \n",
       "RandomForestRegressor  М12 Набор 0,5-10  \n",
       "AdaBoostRegressor      М12 Набор 0,5-10  \n",
       "DecisionTreeRegressor  М12 Набор 0,5-10  \n",
       "SVR                    М12 Набор 0,5-10  \n",
       "Ridge                  М12 Набор 0,5-10  \n",
       "LinearRegression       М12 Набор 0,5-10  \n",
       "RandomForestRegressor  М12 Набор 1,0-20  \n",
       "Ridge                  М12 Набор 1,0-20  \n",
       "LinearRegression       М12 Набор 1,0-20  "
      ]
     },
     "execution_count": 35,
     "metadata": {},
     "output_type": "execute_result"
    }
   ],
   "source": [
    "res_as_is_M12[:15]"
   ]
  },
  {
   "cell_type": "markdown",
   "metadata": {},
   "source": [
    "Вывод по показателю 'Прочность при растяжении, МПа'.\n",
    "\n",
    "Данный показатель прогнозируется немного лучше показателя \"Модуль упругости при растяжении, ГПа\". Следует отметить, что относительно приемлемые результаты по показателю могут быть достигнуты уже при 33% изменении исходных данных."
   ]
  },
  {
   "cell_type": "code",
   "execution_count": 36,
   "metadata": {},
   "outputs": [
    {
     "data": {
      "text/html": [
       "<div>\n",
       "<style scoped>\n",
       "    .dataframe tbody tr th:only-of-type {\n",
       "        vertical-align: middle;\n",
       "    }\n",
       "\n",
       "    .dataframe tbody tr th {\n",
       "        vertical-align: top;\n",
       "    }\n",
       "\n",
       "    .dataframe thead th {\n",
       "        text-align: right;\n",
       "    }\n",
       "</style>\n",
       "<table border=\"1\" class=\"dataframe\">\n",
       "  <thead>\n",
       "    <tr style=\"text-align: right;\">\n",
       "      <th></th>\n",
       "      <th>R2</th>\n",
       "      <th>RMSE</th>\n",
       "      <th>MAE</th>\n",
       "      <th>MAPE</th>\n",
       "      <th>max_error</th>\n",
       "      <th>mark</th>\n",
       "    </tr>\n",
       "  </thead>\n",
       "  <tbody>\n",
       "    <tr>\n",
       "      <th>SVR</th>\n",
       "      <td>0.547399</td>\n",
       "      <td>-0.671047</td>\n",
       "      <td>-0.415601</td>\n",
       "      <td>-1.481377</td>\n",
       "      <td>-2.484257</td>\n",
       "      <td>М13 Набор 0,0-5</td>\n",
       "    </tr>\n",
       "    <tr>\n",
       "      <th>RandomForestRegressor</th>\n",
       "      <td>0.472952</td>\n",
       "      <td>-0.724979</td>\n",
       "      <td>-0.458114</td>\n",
       "      <td>-1.925217</td>\n",
       "      <td>-2.674476</td>\n",
       "      <td>М13 Набор 0,0-5</td>\n",
       "    </tr>\n",
       "    <tr>\n",
       "      <th>AdaBoostRegressor</th>\n",
       "      <td>0.385905</td>\n",
       "      <td>-0.783605</td>\n",
       "      <td>-0.564648</td>\n",
       "      <td>-1.739508</td>\n",
       "      <td>-2.480205</td>\n",
       "      <td>М13 Набор 0,0-5</td>\n",
       "    </tr>\n",
       "    <tr>\n",
       "      <th>Ridge</th>\n",
       "      <td>0.106184</td>\n",
       "      <td>-0.950402</td>\n",
       "      <td>-0.748544</td>\n",
       "      <td>-2.249208</td>\n",
       "      <td>-2.851294</td>\n",
       "      <td>М13 Набор 0,0-5</td>\n",
       "    </tr>\n",
       "    <tr>\n",
       "      <th>LinearRegression</th>\n",
       "      <td>0.106083</td>\n",
       "      <td>-0.950453</td>\n",
       "      <td>-0.748505</td>\n",
       "      <td>-2.252509</td>\n",
       "      <td>-2.852404</td>\n",
       "      <td>М13 Набор 0,0-5</td>\n",
       "    </tr>\n",
       "    <tr>\n",
       "      <th>DecisionTreeRegressor</th>\n",
       "      <td>0.047761</td>\n",
       "      <td>-0.968195</td>\n",
       "      <td>-0.574996</td>\n",
       "      <td>-2.474259</td>\n",
       "      <td>-3.544210</td>\n",
       "      <td>М13 Набор 0,0-5</td>\n",
       "    </tr>\n",
       "    <tr>\n",
       "      <th>Lasso</th>\n",
       "      <td>-0.008420</td>\n",
       "      <td>-1.010265</td>\n",
       "      <td>-0.815073</td>\n",
       "      <td>-1.004216</td>\n",
       "      <td>-2.943849</td>\n",
       "      <td>М13 Набор 0,0-5</td>\n",
       "    </tr>\n",
       "    <tr>\n",
       "      <th>Lasso</th>\n",
       "      <td>-0.008930</td>\n",
       "      <td>-1.022526</td>\n",
       "      <td>-0.822207</td>\n",
       "      <td>-1.016032</td>\n",
       "      <td>-2.429105</td>\n",
       "      <td>М13 Набор 1,0-20</td>\n",
       "    </tr>\n",
       "    <tr>\n",
       "      <th>Lasso</th>\n",
       "      <td>-0.010525</td>\n",
       "      <td>-1.001572</td>\n",
       "      <td>-0.806282</td>\n",
       "      <td>-1.026220</td>\n",
       "      <td>-2.393990</td>\n",
       "      <td>М13 Исходная таблица</td>\n",
       "    </tr>\n",
       "    <tr>\n",
       "      <th>Lasso</th>\n",
       "      <td>-0.011199</td>\n",
       "      <td>-0.998818</td>\n",
       "      <td>-0.747535</td>\n",
       "      <td>-1.130827</td>\n",
       "      <td>-2.864200</td>\n",
       "      <td>М13 Набор 0,5-10</td>\n",
       "    </tr>\n",
       "  </tbody>\n",
       "</table>\n",
       "</div>"
      ],
      "text/plain": [
       "                             R2      RMSE       MAE      MAPE  max_error  \\\n",
       "SVR                    0.547399 -0.671047 -0.415601 -1.481377  -2.484257   \n",
       "RandomForestRegressor  0.472952 -0.724979 -0.458114 -1.925217  -2.674476   \n",
       "AdaBoostRegressor      0.385905 -0.783605 -0.564648 -1.739508  -2.480205   \n",
       "Ridge                  0.106184 -0.950402 -0.748544 -2.249208  -2.851294   \n",
       "LinearRegression       0.106083 -0.950453 -0.748505 -2.252509  -2.852404   \n",
       "DecisionTreeRegressor  0.047761 -0.968195 -0.574996 -2.474259  -3.544210   \n",
       "Lasso                 -0.008420 -1.010265 -0.815073 -1.004216  -2.943849   \n",
       "Lasso                 -0.008930 -1.022526 -0.822207 -1.016032  -2.429105   \n",
       "Lasso                 -0.010525 -1.001572 -0.806282 -1.026220  -2.393990   \n",
       "Lasso                 -0.011199 -0.998818 -0.747535 -1.130827  -2.864200   \n",
       "\n",
       "                                       mark  \n",
       "SVR                         М13 Набор 0,0-5  \n",
       "RandomForestRegressor       М13 Набор 0,0-5  \n",
       "AdaBoostRegressor           М13 Набор 0,0-5  \n",
       "Ridge                       М13 Набор 0,0-5  \n",
       "LinearRegression            М13 Набор 0,0-5  \n",
       "DecisionTreeRegressor       М13 Набор 0,0-5  \n",
       "Lasso                       М13 Набор 0,0-5  \n",
       "Lasso                      М13 Набор 1,0-20  \n",
       "Lasso                  М13 Исходная таблица  \n",
       "Lasso                      М13 Набор 0,5-10  "
      ]
     },
     "execution_count": 36,
     "metadata": {},
     "output_type": "execute_result"
    }
   ],
   "source": [
    "res_as_is_M13[:10]"
   ]
  },
  {
   "cell_type": "markdown",
   "metadata": {},
   "source": [
    "Вывод по показателю \"Соотношение матрица-наполнитель\".\n",
    "\n",
    "Данный показатель трудно поддается прогнозированию. Результат при значительном (более 60%) изменении исходных данных не дает значительной точности"
   ]
  },
  {
   "cell_type": "code",
   "execution_count": 37,
   "metadata": {},
   "outputs": [
    {
     "data": {
      "text/html": [
       "<div>\n",
       "<style scoped>\n",
       "    .dataframe tbody tr th:only-of-type {\n",
       "        vertical-align: middle;\n",
       "    }\n",
       "\n",
       "    .dataframe tbody tr th {\n",
       "        vertical-align: top;\n",
       "    }\n",
       "\n",
       "    .dataframe thead th {\n",
       "        text-align: right;\n",
       "    }\n",
       "</style>\n",
       "<table border=\"1\" class=\"dataframe\">\n",
       "  <thead>\n",
       "    <tr style=\"text-align: right;\">\n",
       "      <th></th>\n",
       "      <th>R2</th>\n",
       "      <th>RMSE</th>\n",
       "      <th>MAE</th>\n",
       "      <th>MAPE</th>\n",
       "      <th>max_error</th>\n",
       "      <th>mark</th>\n",
       "    </tr>\n",
       "  </thead>\n",
       "  <tbody>\n",
       "    <tr>\n",
       "      <th>Lasso</th>\n",
       "      <td>-0.007404</td>\n",
       "      <td>-0.997864</td>\n",
       "      <td>-0.803044</td>\n",
       "      <td>-1.008392</td>\n",
       "      <td>-2.409711</td>\n",
       "      <td>М31 Исходная таблица</td>\n",
       "    </tr>\n",
       "    <tr>\n",
       "      <th>Lasso</th>\n",
       "      <td>-0.008708</td>\n",
       "      <td>-0.995845</td>\n",
       "      <td>-0.791167</td>\n",
       "      <td>-1.011746</td>\n",
       "      <td>-2.529939</td>\n",
       "      <td>М22 Исходная таблица</td>\n",
       "    </tr>\n",
       "    <tr>\n",
       "      <th>Lasso</th>\n",
       "      <td>-0.011827</td>\n",
       "      <td>-1.004214</td>\n",
       "      <td>-0.798716</td>\n",
       "      <td>-1.070624</td>\n",
       "      <td>-2.401660</td>\n",
       "      <td>М32 Исходная таблица</td>\n",
       "    </tr>\n",
       "    <tr>\n",
       "      <th>Ridge</th>\n",
       "      <td>-0.015796</td>\n",
       "      <td>-1.002100</td>\n",
       "      <td>-0.805031</td>\n",
       "      <td>-1.087408</td>\n",
       "      <td>-2.470230</td>\n",
       "      <td>М31 Исходная таблица</td>\n",
       "    </tr>\n",
       "    <tr>\n",
       "      <th>LinearRegression</th>\n",
       "      <td>-0.015850</td>\n",
       "      <td>-1.002126</td>\n",
       "      <td>-0.805055</td>\n",
       "      <td>-1.087789</td>\n",
       "      <td>-2.470463</td>\n",
       "      <td>М31 Исходная таблица</td>\n",
       "    </tr>\n",
       "    <tr>\n",
       "      <th>Lasso</th>\n",
       "      <td>-0.022636</td>\n",
       "      <td>-0.977641</td>\n",
       "      <td>-0.777691</td>\n",
       "      <td>-1.101484</td>\n",
       "      <td>-2.419052</td>\n",
       "      <td>М23 Исходная таблица</td>\n",
       "    </tr>\n",
       "    <tr>\n",
       "      <th>Ridge</th>\n",
       "      <td>-0.028563</td>\n",
       "      <td>-1.011593</td>\n",
       "      <td>-0.805196</td>\n",
       "      <td>-1.268676</td>\n",
       "      <td>-2.452065</td>\n",
       "      <td>М32 Исходная таблица</td>\n",
       "    </tr>\n",
       "    <tr>\n",
       "      <th>LinearRegression</th>\n",
       "      <td>-0.028624</td>\n",
       "      <td>-1.011621</td>\n",
       "      <td>-0.805221</td>\n",
       "      <td>-1.269372</td>\n",
       "      <td>-2.452167</td>\n",
       "      <td>М32 Исходная таблица</td>\n",
       "    </tr>\n",
       "    <tr>\n",
       "      <th>Lasso</th>\n",
       "      <td>-0.029493</td>\n",
       "      <td>-0.982399</td>\n",
       "      <td>-0.806492</td>\n",
       "      <td>-1.069113</td>\n",
       "      <td>-2.243028</td>\n",
       "      <td>М21 Исходная таблица</td>\n",
       "    </tr>\n",
       "    <tr>\n",
       "      <th>Ridge</th>\n",
       "      <td>-0.029608</td>\n",
       "      <td>-1.005002</td>\n",
       "      <td>-0.799008</td>\n",
       "      <td>-1.298081</td>\n",
       "      <td>-2.590914</td>\n",
       "      <td>М22 Исходная таблица</td>\n",
       "    </tr>\n",
       "  </tbody>\n",
       "</table>\n",
       "</div>"
      ],
      "text/plain": [
       "                        R2      RMSE       MAE      MAPE  max_error  \\\n",
       "Lasso            -0.007404 -0.997864 -0.803044 -1.008392  -2.409711   \n",
       "Lasso            -0.008708 -0.995845 -0.791167 -1.011746  -2.529939   \n",
       "Lasso            -0.011827 -1.004214 -0.798716 -1.070624  -2.401660   \n",
       "Ridge            -0.015796 -1.002100 -0.805031 -1.087408  -2.470230   \n",
       "LinearRegression -0.015850 -1.002126 -0.805055 -1.087789  -2.470463   \n",
       "Lasso            -0.022636 -0.977641 -0.777691 -1.101484  -2.419052   \n",
       "Ridge            -0.028563 -1.011593 -0.805196 -1.268676  -2.452065   \n",
       "LinearRegression -0.028624 -1.011621 -0.805221 -1.269372  -2.452167   \n",
       "Lasso            -0.029493 -0.982399 -0.806492 -1.069113  -2.243028   \n",
       "Ridge            -0.029608 -1.005002 -0.799008 -1.298081  -2.590914   \n",
       "\n",
       "                                  mark  \n",
       "Lasso             М31 Исходная таблица  \n",
       "Lasso             М22 Исходная таблица  \n",
       "Lasso             М32 Исходная таблица  \n",
       "Ridge             М31 Исходная таблица  \n",
       "LinearRegression  М31 Исходная таблица  \n",
       "Lasso             М23 Исходная таблица  \n",
       "Ridge             М32 Исходная таблица  \n",
       "LinearRegression  М32 Исходная таблица  \n",
       "Lasso             М21 Исходная таблица  \n",
       "Ridge             М22 Исходная таблица  "
      ]
     },
     "execution_count": 37,
     "metadata": {},
     "output_type": "execute_result"
    }
   ],
   "source": [
    "res_as_is_others[:10]"
   ]
  },
  {
   "cell_type": "markdown",
   "metadata": {},
   "source": [
    "Предположение о том, что путем сокращения набора входных параметров исходя из их возможного физического смысла можно повысить точность модели, оказалось ошибочным. Возможно, на разных наборах данных точность прогнозов повысится. Но вряд ли она превысит точность описанных выше методов."
   ]
  },
  {
   "cell_type": "markdown",
   "metadata": {
    "id": "-ZtzYgrvHDyn"
   },
   "source": [
    "## 4.3. Улучшение моделей"
   ]
  },
  {
   "cell_type": "markdown",
   "metadata": {},
   "source": [
    "В данном разделе попробуем улучшить следующие модели\n",
    "1. М11 Набор 0,0-5\n",
    "2. М11 Набор 0,5-10\n",
    "3. М12 Набор 0,0-5\n",
    "4. М12 Набор 0,5-10\n",
    "5. М13 Набор 0,0-5\n"
   ]
  },
  {
   "cell_type": "code",
   "execution_count": 38,
   "metadata": {
    "id": "ZJDO22bvEIOp"
   },
   "outputs": [],
   "source": [
    "def grid_seach(param, X,y, mark):\n",
    "    print(f'------ {mark} -------')\n",
    "    cv = KFold(10, shuffle=True, random_state=42)\n",
    "    \n",
    "    GridModel = GridSearchCV(estimator=param['model'], param_grid=param['params'], cv=cv, verbose=0)\n",
    "    \n",
    "    GridModel.fit(X, np.ravel(y, order='C'))\n",
    "    mistakes = ['r2', \n",
    "                'max_error', \n",
    "                'neg_root_mean_squared_error', \n",
    "                'neg_mean_absolute_error', \n",
    "                'neg_mean_absolute_percentage_error']\n",
    "    results = pd.DataFrame()\n",
    "    modelGrid = param['model'].set_params(**GridModel.best_params_)\n",
    "    t = cross_validate(modelGrid, X, np.ravel(y,order='C'), cv=cv, scoring=mistakes)\n",
    "    results.loc[param['name'], 'model'] = str(param['model'])\n",
    "    results.loc[param['name'], 'R2'] = (t['test_r2'].mean()).round(4)\n",
    "    results.loc[param['name'], 'RMSE'] = (t['test_neg_root_mean_squared_error'].mean()).round(4)\n",
    "    results.loc[param['name'], 'MAE'] = (t['test_neg_mean_absolute_error'].mean()).round(4)\n",
    "    results.loc[param['name'], 'MAPE'] = (t['test_neg_mean_absolute_percentage_error'].mean()).round(4)\n",
    "    results.loc[param['name'], 'max_error'] = (t['test_max_error'].mean()).round(4)\n",
    "    results.loc[param['name'], 'mark'] = mark\n",
    "    #results.set_index('model', inplace=True)\n",
    "    return results"
   ]
  },
  {
   "cell_type": "code",
   "execution_count": 41,
   "metadata": {
    "id": "O5k6lfkZPVxp"
   },
   "outputs": [],
   "source": [
    "#Ridge()\n",
    "p1 = {'model': Ridge(),\n",
    "      'name': 'Ridge', \n",
    "      'params': {'alpha': [0.1, 1.5, 10, 20, 300, 500]}}\n",
    "\n",
    "#Lasso()\n",
    "p2 = {'model': Lasso(),\n",
    "      'name': 'Lasso',\n",
    "      'params': {'alpha': [0.1, 1.5, 10, 20, 100, 300]}}\n",
    "\n",
    "#SVR()\n",
    "p3 = {'model':SVR(),\n",
    "      'name': 'SVR',\n",
    "      'params': {'kernel': ['linear', 'poly', 'sigmoid'],\n",
    "                'degree': [2,8,12],\n",
    "                'C':[0.01, 0.5, 1.5, 3]}}\n",
    "\n",
    "#DecisionTreeRegressor()\n",
    "p4 = {'model':DecisionTreeRegressor(),\n",
    "      'name': 'DecisionTreeRegressor',\n",
    "      'params': {'max_depth': [2, 6, 10, 12],\n",
    "                 'min_samples_split': [2, 4,6]}}\n",
    "\n",
    "#RandomForestRegressor()\n",
    "p5 = {'model':RandomForestRegressor(),\n",
    "      'name': 'RandomForestRegressor',\n",
    "      'params': {'n_estimators': [50, 150, 200],\n",
    "                    'criterion': ['squared_error', 'absolute_error'],\n",
    "                 'max_features': ['sqrt', 'log2']}}\n",
    "\n",
    "#AdaBoostRegressor()\n",
    "p6 = {'model':AdaBoostRegressor(),\n",
    "      'name': 'AdaBoostRegressor',\n",
    "      'params':{'learning_rate': [0.01, 0.1, 0.3, 0.8, 1],\n",
    "                         'loss': ['linear', 'square', 'exponential']}}\n",
    "\n",
    "params_grid = [p1, p2, p3, p4, p5, p6]\n",
    "\n",
    "res_grid_M11 = pd.DataFrame()\n",
    "res_grid_M12 = pd.DataFrame()\n",
    "res_grid_M13 = pd.DataFrame()"
   ]
  },
  {
   "cell_type": "code",
   "execution_count": 42,
   "metadata": {
    "colab": {
     "base_uri": "https://localhost:8080/"
    },
    "id": "ywi39VtBnclW",
    "outputId": "882313b9-4bc5-48d6-87f8-e73085edd4dd",
    "scrolled": true
   },
   "outputs": [
    {
     "name": "stdout",
     "output_type": "stream",
     "text": [
      "Ridge()\n",
      "------ М11 Набор 0,5-10 -------\n",
      "------ М11 Набор 0,0-5 -------\n",
      "Ridge(alpha=1.5)  - finished \n",
      "Lasso()\n",
      "------ М11 Набор 0,5-10 -------\n",
      "------ М11 Набор 0,0-5 -------\n",
      "Lasso(alpha=0.1)  - finished \n",
      "SVR()\n",
      "------ М11 Набор 0,5-10 -------\n",
      "------ М11 Набор 0,0-5 -------\n",
      "SVR(C=3, degree=2, kernel='poly')  - finished \n",
      "DecisionTreeRegressor()\n",
      "------ М11 Набор 0,5-10 -------\n",
      "------ М11 Набор 0,0-5 -------\n",
      "DecisionTreeRegressor(max_depth=6, min_samples_split=6)  - finished \n",
      "RandomForestRegressor()\n",
      "------ М11 Набор 0,5-10 -------\n",
      "------ М11 Набор 0,0-5 -------\n",
      "RandomForestRegressor(criterion='absolute_error', max_features='sqrt',\n",
      "                      n_estimators=200)  - finished \n",
      "AdaBoostRegressor()\n",
      "------ М11 Набор 0,5-10 -------\n",
      "------ М11 Набор 0,0-5 -------\n",
      "AdaBoostRegressor(learning_rate=0.1, loss='exponential')  - finished \n"
     ]
    }
   ],
   "source": [
    "#Модели группы М11\n",
    "for param in params_grid:\n",
    "    print(str(param['model']))\n",
    "    res_grid_M11 = pd.concat([res_grid_M11,\n",
    "                           grid_seach(param, M11_X_train_3, M11_y_train_3, mark = 'М11 Набор 0,5-10'),\n",
    "                           grid_seach(param, M11_X_train_4, M11_y_train_4, mark = 'М11 Набор 0,0-5')])  \n",
    "    \n",
    "    print(str(param['model']), ' - finished ')\n",
    "    \n",
    "res_grid_M11 = res_grid_M11.sort_values(by='R2', ascending=False)"
   ]
  },
  {
   "cell_type": "code",
   "execution_count": 45,
   "metadata": {},
   "outputs": [
    {
     "name": "stdout",
     "output_type": "stream",
     "text": [
      "Ridge(alpha=10)\n",
      "------ М12 Набор 0,5-10 -------\n",
      "------ М12 Набор 0,0-5 -------\n",
      "Ridge(alpha=10)  - finished \n",
      "Lasso(alpha=0.1)\n",
      "------ М12 Набор 0,5-10 -------\n",
      "------ М12 Набор 0,0-5 -------\n",
      "Lasso(alpha=0.1)  - finished \n",
      "SVR(C=0.01, degree=2, kernel='linear')\n",
      "------ М12 Набор 0,5-10 -------\n",
      "------ М12 Набор 0,0-5 -------\n",
      "SVR(C=3, degree=2, kernel='poly')  - finished \n",
      "DecisionTreeRegressor(max_depth=6, min_samples_split=6)\n",
      "------ М12 Набор 0,5-10 -------\n",
      "------ М12 Набор 0,0-5 -------\n",
      "DecisionTreeRegressor(max_depth=6)  - finished \n",
      "RandomForestRegressor(criterion='absolute_error', max_features='sqrt',\n",
      "                      n_estimators=200)\n",
      "------ М12 Набор 0,5-10 -------\n",
      "------ М12 Набор 0,0-5 -------\n",
      "RandomForestRegressor(criterion='absolute_error', max_features='log2',\n",
      "                      n_estimators=200)  - finished \n",
      "AdaBoostRegressor(learning_rate=0.1, loss='exponential')\n",
      "------ М12 Набор 0,5-10 -------\n",
      "------ М12 Набор 0,0-5 -------\n",
      "AdaBoostRegressor(learning_rate=1, loss='square')  - finished \n"
     ]
    }
   ],
   "source": [
    "#Модели группы M12\n",
    "for param in params_grid:\n",
    "    print(str(param['model']))\n",
    "        \n",
    "    res_grid_M12 = pd.concat([res_grid_M12,\n",
    "                           grid_seach(param, M12_X_train_3, M12_y_train_3, mark = 'М12 Набор 0,5-10'),\n",
    "                           grid_seach(param, M12_X_train_4, M12_y_train_4, mark = 'М12 Набор 0,0-5')])  \n",
    "                            \n",
    "    print(str(param['model']), ' - finished ')\n",
    "    \n",
    "res_grid_M12 = res_grid_M12.sort_values(by='R2', ascending=False)"
   ]
  },
  {
   "cell_type": "code",
   "execution_count": 49,
   "metadata": {},
   "outputs": [
    {
     "name": "stdout",
     "output_type": "stream",
     "text": [
      "Ridge(alpha=10)\n",
      "------ М13 Набор 0,0-5 -------\n",
      "Ridge(alpha=20)  - finished \n",
      "Lasso(alpha=0.1)\n",
      "------ М13 Набор 0,0-5 -------\n",
      "Lasso(alpha=0.1)  - finished \n",
      "SVR(C=3, degree=2, kernel='poly')\n",
      "------ М13 Набор 0,0-5 -------\n",
      "SVR(C=1.5, degree=2, kernel='poly')  - finished \n",
      "DecisionTreeRegressor(max_depth=6)\n",
      "------ М13 Набор 0,0-5 -------\n",
      "DecisionTreeRegressor(max_depth=6)  - finished \n",
      "RandomForestRegressor(criterion='absolute_error', max_features='log2',\n",
      "                      n_estimators=200)\n",
      "------ М13 Набор 0,0-5 -------\n",
      "RandomForestRegressor(criterion='absolute_error', max_features='log2',\n",
      "                      n_estimators=150)  - finished \n",
      "AdaBoostRegressor(learning_rate=1, loss='square')\n",
      "------ М13 Набор 0,0-5 -------\n",
      "AdaBoostRegressor(learning_rate=0.1)  - finished \n"
     ]
    }
   ],
   "source": [
    "#Модели группы M13\n",
    "for param in params_grid:\n",
    "    print(str(param['model']))\n",
    "        \n",
    "    res_grid_M13 = pd.concat([res_grid_M13,\n",
    "                           grid_seach(param, M13_X_train_4, M13_y_train_4, mark = 'М13 Набор 0,0-5')])  \n",
    "                            \n",
    "    print(str(param['model']), ' - finished ')\n",
    "    \n",
    "res_grid_M13 = res_grid_M13.sort_values(by='R2', ascending=False)"
   ]
  },
  {
   "cell_type": "code",
   "execution_count": 43,
   "metadata": {
    "colab": {
     "base_uri": "https://localhost:8080/",
     "height": 802
    },
    "id": "QeFAOXbxVsK0",
    "outputId": "f33930a9-8caf-442a-add7-453207450262"
   },
   "outputs": [
    {
     "data": {
      "text/html": [
       "<div>\n",
       "<style scoped>\n",
       "    .dataframe tbody tr th:only-of-type {\n",
       "        vertical-align: middle;\n",
       "    }\n",
       "\n",
       "    .dataframe tbody tr th {\n",
       "        vertical-align: top;\n",
       "    }\n",
       "\n",
       "    .dataframe thead th {\n",
       "        text-align: right;\n",
       "    }\n",
       "</style>\n",
       "<table border=\"1\" class=\"dataframe\">\n",
       "  <thead>\n",
       "    <tr style=\"text-align: right;\">\n",
       "      <th></th>\n",
       "      <th>model</th>\n",
       "      <th>R2</th>\n",
       "      <th>RMSE</th>\n",
       "      <th>MAE</th>\n",
       "      <th>MAPE</th>\n",
       "      <th>max_error</th>\n",
       "      <th>mark</th>\n",
       "    </tr>\n",
       "  </thead>\n",
       "  <tbody>\n",
       "    <tr>\n",
       "      <th>RandomForestRegressor</th>\n",
       "      <td>RandomForestRegressor(criterion='absolute_erro...</td>\n",
       "      <td>0.7240</td>\n",
       "      <td>-0.5081</td>\n",
       "      <td>-0.3088</td>\n",
       "      <td>-0.9997</td>\n",
       "      <td>-2.1081</td>\n",
       "      <td>М11 Набор 0,0-5</td>\n",
       "    </tr>\n",
       "    <tr>\n",
       "      <th>AdaBoostRegressor</th>\n",
       "      <td>AdaBoostRegressor(learning_rate=0.1, loss='exp...</td>\n",
       "      <td>0.6667</td>\n",
       "      <td>-0.5596</td>\n",
       "      <td>-0.3888</td>\n",
       "      <td>-1.0499</td>\n",
       "      <td>-2.1340</td>\n",
       "      <td>М11 Набор 0,0-5</td>\n",
       "    </tr>\n",
       "    <tr>\n",
       "      <th>SVR</th>\n",
       "      <td>SVR(C=3, degree=2, kernel='poly')</td>\n",
       "      <td>0.6345</td>\n",
       "      <td>-0.5903</td>\n",
       "      <td>-0.4043</td>\n",
       "      <td>-2.0291</td>\n",
       "      <td>-2.1982</td>\n",
       "      <td>М11 Набор 0,0-5</td>\n",
       "    </tr>\n",
       "    <tr>\n",
       "      <th>DecisionTreeRegressor</th>\n",
       "      <td>DecisionTreeRegressor(max_depth=6, min_samples...</td>\n",
       "      <td>0.6235</td>\n",
       "      <td>-0.5890</td>\n",
       "      <td>-0.3357</td>\n",
       "      <td>-1.1326</td>\n",
       "      <td>-2.6053</td>\n",
       "      <td>М11 Набор 0,0-5</td>\n",
       "    </tr>\n",
       "    <tr>\n",
       "      <th>Ridge</th>\n",
       "      <td>Ridge(alpha=1.5)</td>\n",
       "      <td>0.3849</td>\n",
       "      <td>-0.7625</td>\n",
       "      <td>-0.5836</td>\n",
       "      <td>-2.2277</td>\n",
       "      <td>-2.3734</td>\n",
       "      <td>М11 Набор 0,0-5</td>\n",
       "    </tr>\n",
       "    <tr>\n",
       "      <th>Lasso</th>\n",
       "      <td>Lasso(alpha=0.1)</td>\n",
       "      <td>0.2431</td>\n",
       "      <td>-0.8486</td>\n",
       "      <td>-0.6752</td>\n",
       "      <td>-1.9673</td>\n",
       "      <td>-2.3884</td>\n",
       "      <td>М11 Набор 0,0-5</td>\n",
       "    </tr>\n",
       "    <tr>\n",
       "      <th>RandomForestRegressor</th>\n",
       "      <td>RandomForestRegressor(criterion='absolute_erro...</td>\n",
       "      <td>0.1451</td>\n",
       "      <td>-0.9317</td>\n",
       "      <td>-0.6934</td>\n",
       "      <td>-1.8034</td>\n",
       "      <td>-2.9015</td>\n",
       "      <td>М11 Набор 0,5-10</td>\n",
       "    </tr>\n",
       "    <tr>\n",
       "      <th>AdaBoostRegressor</th>\n",
       "      <td>AdaBoostRegressor(learning_rate=0.1, loss='exp...</td>\n",
       "      <td>0.1109</td>\n",
       "      <td>-0.9517</td>\n",
       "      <td>-0.7089</td>\n",
       "      <td>-1.7571</td>\n",
       "      <td>-2.9667</td>\n",
       "      <td>М11 Набор 0,5-10</td>\n",
       "    </tr>\n",
       "    <tr>\n",
       "      <th>SVR</th>\n",
       "      <td>SVR(C=0.01, degree=2, kernel='linear')</td>\n",
       "      <td>0.0676</td>\n",
       "      <td>-0.9756</td>\n",
       "      <td>-0.7377</td>\n",
       "      <td>-2.0700</td>\n",
       "      <td>-3.1380</td>\n",
       "      <td>М11 Набор 0,5-10</td>\n",
       "    </tr>\n",
       "    <tr>\n",
       "      <th>Ridge</th>\n",
       "      <td>Ridge(alpha=300)</td>\n",
       "      <td>0.0640</td>\n",
       "      <td>-0.9772</td>\n",
       "      <td>-0.7414</td>\n",
       "      <td>-1.7761</td>\n",
       "      <td>-3.0763</td>\n",
       "      <td>М11 Набор 0,5-10</td>\n",
       "    </tr>\n",
       "    <tr>\n",
       "      <th>Lasso</th>\n",
       "      <td>Lasso(alpha=0.1)</td>\n",
       "      <td>0.0380</td>\n",
       "      <td>-0.9914</td>\n",
       "      <td>-0.7577</td>\n",
       "      <td>-1.6283</td>\n",
       "      <td>-3.0977</td>\n",
       "      <td>М11 Набор 0,5-10</td>\n",
       "    </tr>\n",
       "    <tr>\n",
       "      <th>DecisionTreeRegressor</th>\n",
       "      <td>DecisionTreeRegressor(max_depth=2, min_samples...</td>\n",
       "      <td>0.0299</td>\n",
       "      <td>-0.9922</td>\n",
       "      <td>-0.7441</td>\n",
       "      <td>-2.4670</td>\n",
       "      <td>-3.1510</td>\n",
       "      <td>М11 Набор 0,5-10</td>\n",
       "    </tr>\n",
       "  </tbody>\n",
       "</table>\n",
       "</div>"
      ],
      "text/plain": [
       "                                                                   model  \\\n",
       "RandomForestRegressor  RandomForestRegressor(criterion='absolute_erro...   \n",
       "AdaBoostRegressor      AdaBoostRegressor(learning_rate=0.1, loss='exp...   \n",
       "SVR                                    SVR(C=3, degree=2, kernel='poly')   \n",
       "DecisionTreeRegressor  DecisionTreeRegressor(max_depth=6, min_samples...   \n",
       "Ridge                                                   Ridge(alpha=1.5)   \n",
       "Lasso                                                   Lasso(alpha=0.1)   \n",
       "RandomForestRegressor  RandomForestRegressor(criterion='absolute_erro...   \n",
       "AdaBoostRegressor      AdaBoostRegressor(learning_rate=0.1, loss='exp...   \n",
       "SVR                               SVR(C=0.01, degree=2, kernel='linear')   \n",
       "Ridge                                                   Ridge(alpha=300)   \n",
       "Lasso                                                   Lasso(alpha=0.1)   \n",
       "DecisionTreeRegressor  DecisionTreeRegressor(max_depth=2, min_samples...   \n",
       "\n",
       "                           R2    RMSE     MAE    MAPE  max_error  \\\n",
       "RandomForestRegressor  0.7240 -0.5081 -0.3088 -0.9997    -2.1081   \n",
       "AdaBoostRegressor      0.6667 -0.5596 -0.3888 -1.0499    -2.1340   \n",
       "SVR                    0.6345 -0.5903 -0.4043 -2.0291    -2.1982   \n",
       "DecisionTreeRegressor  0.6235 -0.5890 -0.3357 -1.1326    -2.6053   \n",
       "Ridge                  0.3849 -0.7625 -0.5836 -2.2277    -2.3734   \n",
       "Lasso                  0.2431 -0.8486 -0.6752 -1.9673    -2.3884   \n",
       "RandomForestRegressor  0.1451 -0.9317 -0.6934 -1.8034    -2.9015   \n",
       "AdaBoostRegressor      0.1109 -0.9517 -0.7089 -1.7571    -2.9667   \n",
       "SVR                    0.0676 -0.9756 -0.7377 -2.0700    -3.1380   \n",
       "Ridge                  0.0640 -0.9772 -0.7414 -1.7761    -3.0763   \n",
       "Lasso                  0.0380 -0.9914 -0.7577 -1.6283    -3.0977   \n",
       "DecisionTreeRegressor  0.0299 -0.9922 -0.7441 -2.4670    -3.1510   \n",
       "\n",
       "                                   mark  \n",
       "RandomForestRegressor   М11 Набор 0,0-5  \n",
       "AdaBoostRegressor       М11 Набор 0,0-5  \n",
       "SVR                     М11 Набор 0,0-5  \n",
       "DecisionTreeRegressor   М11 Набор 0,0-5  \n",
       "Ridge                   М11 Набор 0,0-5  \n",
       "Lasso                   М11 Набор 0,0-5  \n",
       "RandomForestRegressor  М11 Набор 0,5-10  \n",
       "AdaBoostRegressor      М11 Набор 0,5-10  \n",
       "SVR                    М11 Набор 0,5-10  \n",
       "Ridge                  М11 Набор 0,5-10  \n",
       "Lasso                  М11 Набор 0,5-10  \n",
       "DecisionTreeRegressor  М11 Набор 0,5-10  "
      ]
     },
     "execution_count": 43,
     "metadata": {},
     "output_type": "execute_result"
    }
   ],
   "source": [
    "res_grid_M11"
   ]
  },
  {
   "cell_type": "markdown",
   "metadata": {},
   "source": [
    "Из представленной таблицы видно, что максимальная точность R2 оказалась практически на том же самом уровне, но немного лучше оказались базовые показатели (таблица res_as_is_M11) Также, можно заметить, что улучшился максимальный показатель на выборке М11 Набор 0,5-10, но этот набор исхоных данных, с 33% корректировкой,не дает приемлемой точности.\n",
    "\n",
    "В качестве лучшей модели будем использовать модель базовый SVR на наборе данных с 66% корректировкой"
   ]
  },
  {
   "cell_type": "code",
   "execution_count": 50,
   "metadata": {},
   "outputs": [
    {
     "data": {
      "text/html": [
       "<div>\n",
       "<style scoped>\n",
       "    .dataframe tbody tr th:only-of-type {\n",
       "        vertical-align: middle;\n",
       "    }\n",
       "\n",
       "    .dataframe tbody tr th {\n",
       "        vertical-align: top;\n",
       "    }\n",
       "\n",
       "    .dataframe thead th {\n",
       "        text-align: right;\n",
       "    }\n",
       "</style>\n",
       "<table border=\"1\" class=\"dataframe\">\n",
       "  <thead>\n",
       "    <tr style=\"text-align: right;\">\n",
       "      <th></th>\n",
       "      <th>model</th>\n",
       "      <th>R2</th>\n",
       "      <th>RMSE</th>\n",
       "      <th>MAE</th>\n",
       "      <th>MAPE</th>\n",
       "      <th>max_error</th>\n",
       "      <th>mark</th>\n",
       "    </tr>\n",
       "  </thead>\n",
       "  <tbody>\n",
       "    <tr>\n",
       "      <th>RandomForestRegressor</th>\n",
       "      <td>RandomForestRegressor(criterion='absolute_erro...</td>\n",
       "      <td>0.9827</td>\n",
       "      <td>-0.1212</td>\n",
       "      <td>-0.0590</td>\n",
       "      <td>-0.5103</td>\n",
       "      <td>-0.6903</td>\n",
       "      <td>М12 Набор 0,0-5</td>\n",
       "    </tr>\n",
       "    <tr>\n",
       "      <th>AdaBoostRegressor</th>\n",
       "      <td>AdaBoostRegressor(learning_rate=1, loss='square')</td>\n",
       "      <td>0.9632</td>\n",
       "      <td>-0.1813</td>\n",
       "      <td>-0.1107</td>\n",
       "      <td>-1.9330</td>\n",
       "      <td>-0.9157</td>\n",
       "      <td>М12 Набор 0,0-5</td>\n",
       "    </tr>\n",
       "    <tr>\n",
       "      <th>DecisionTreeRegressor</th>\n",
       "      <td>DecisionTreeRegressor(max_depth=6)</td>\n",
       "      <td>0.9520</td>\n",
       "      <td>-0.1890</td>\n",
       "      <td>-0.0498</td>\n",
       "      <td>-0.4432</td>\n",
       "      <td>-1.1815</td>\n",
       "      <td>М12 Набор 0,0-5</td>\n",
       "    </tr>\n",
       "    <tr>\n",
       "      <th>SVR</th>\n",
       "      <td>SVR(C=3, degree=2, kernel='poly')</td>\n",
       "      <td>0.8451</td>\n",
       "      <td>-0.3856</td>\n",
       "      <td>-0.2791</td>\n",
       "      <td>-1.6822</td>\n",
       "      <td>-1.4293</td>\n",
       "      <td>М12 Набор 0,0-5</td>\n",
       "    </tr>\n",
       "    <tr>\n",
       "      <th>Ridge</th>\n",
       "      <td>Ridge(alpha=10)</td>\n",
       "      <td>0.7952</td>\n",
       "      <td>-0.4476</td>\n",
       "      <td>-0.3534</td>\n",
       "      <td>-2.7222</td>\n",
       "      <td>-1.1347</td>\n",
       "      <td>М12 Набор 0,0-5</td>\n",
       "    </tr>\n",
       "    <tr>\n",
       "      <th>Ridge</th>\n",
       "      <td>Ridge(alpha=10)</td>\n",
       "      <td>0.7952</td>\n",
       "      <td>-0.4476</td>\n",
       "      <td>-0.3534</td>\n",
       "      <td>-2.7222</td>\n",
       "      <td>-1.1347</td>\n",
       "      <td>М12 Набор 0,0-5</td>\n",
       "    </tr>\n",
       "    <tr>\n",
       "      <th>RandomForestRegressor</th>\n",
       "      <td>RandomForestRegressor(max_features='sqrt', n_e...</td>\n",
       "      <td>0.7589</td>\n",
       "      <td>-0.4826</td>\n",
       "      <td>-0.3589</td>\n",
       "      <td>-2.8477</td>\n",
       "      <td>-1.6235</td>\n",
       "      <td>М12 Набор 0,5-10</td>\n",
       "    </tr>\n",
       "    <tr>\n",
       "      <th>Lasso</th>\n",
       "      <td>Lasso(alpha=0.1)</td>\n",
       "      <td>0.7430</td>\n",
       "      <td>-0.5015</td>\n",
       "      <td>-0.3918</td>\n",
       "      <td>-1.8026</td>\n",
       "      <td>-1.2804</td>\n",
       "      <td>М12 Набор 0,0-5</td>\n",
       "    </tr>\n",
       "    <tr>\n",
       "      <th>Lasso</th>\n",
       "      <td>Lasso(alpha=0.1)</td>\n",
       "      <td>0.7430</td>\n",
       "      <td>-0.5015</td>\n",
       "      <td>-0.3918</td>\n",
       "      <td>-1.8026</td>\n",
       "      <td>-1.2804</td>\n",
       "      <td>М12 Набор 0,0-5</td>\n",
       "    </tr>\n",
       "    <tr>\n",
       "      <th>AdaBoostRegressor</th>\n",
       "      <td>AdaBoostRegressor(learning_rate=1)</td>\n",
       "      <td>0.6948</td>\n",
       "      <td>-0.5432</td>\n",
       "      <td>-0.4345</td>\n",
       "      <td>-5.2849</td>\n",
       "      <td>-1.6545</td>\n",
       "      <td>М12 Набор 0,5-10</td>\n",
       "    </tr>\n",
       "    <tr>\n",
       "      <th>DecisionTreeRegressor</th>\n",
       "      <td>DecisionTreeRegressor(max_depth=6, min_samples...</td>\n",
       "      <td>0.6279</td>\n",
       "      <td>-0.5986</td>\n",
       "      <td>-0.3781</td>\n",
       "      <td>-3.5024</td>\n",
       "      <td>-2.2620</td>\n",
       "      <td>М12 Набор 0,5-10</td>\n",
       "    </tr>\n",
       "    <tr>\n",
       "      <th>Ridge</th>\n",
       "      <td>Ridge(alpha=10)</td>\n",
       "      <td>0.4698</td>\n",
       "      <td>-0.7167</td>\n",
       "      <td>-0.5503</td>\n",
       "      <td>-2.3012</td>\n",
       "      <td>-1.8400</td>\n",
       "      <td>М12 Набор 0,5-10</td>\n",
       "    </tr>\n",
       "    <tr>\n",
       "      <th>Ridge</th>\n",
       "      <td>Ridge(alpha=10)</td>\n",
       "      <td>0.4698</td>\n",
       "      <td>-0.7167</td>\n",
       "      <td>-0.5503</td>\n",
       "      <td>-2.3012</td>\n",
       "      <td>-1.8400</td>\n",
       "      <td>М12 Набор 0,5-10</td>\n",
       "    </tr>\n",
       "    <tr>\n",
       "      <th>SVR</th>\n",
       "      <td>SVR(C=0.01, degree=2, kernel='linear')</td>\n",
       "      <td>0.4212</td>\n",
       "      <td>-0.7479</td>\n",
       "      <td>-0.5110</td>\n",
       "      <td>-1.8839</td>\n",
       "      <td>-1.9761</td>\n",
       "      <td>М12 Набор 0,5-10</td>\n",
       "    </tr>\n",
       "    <tr>\n",
       "      <th>Lasso</th>\n",
       "      <td>Lasso(alpha=0.1)</td>\n",
       "      <td>0.4096</td>\n",
       "      <td>-0.7565</td>\n",
       "      <td>-0.5609</td>\n",
       "      <td>-1.4472</td>\n",
       "      <td>-1.7958</td>\n",
       "      <td>М12 Набор 0,5-10</td>\n",
       "    </tr>\n",
       "    <tr>\n",
       "      <th>Lasso</th>\n",
       "      <td>Lasso(alpha=0.1)</td>\n",
       "      <td>0.4096</td>\n",
       "      <td>-0.7565</td>\n",
       "      <td>-0.5609</td>\n",
       "      <td>-1.4472</td>\n",
       "      <td>-1.7958</td>\n",
       "      <td>М12 Набор 0,5-10</td>\n",
       "    </tr>\n",
       "  </tbody>\n",
       "</table>\n",
       "</div>"
      ],
      "text/plain": [
       "                                                                   model  \\\n",
       "RandomForestRegressor  RandomForestRegressor(criterion='absolute_erro...   \n",
       "AdaBoostRegressor      AdaBoostRegressor(learning_rate=1, loss='square')   \n",
       "DecisionTreeRegressor                 DecisionTreeRegressor(max_depth=6)   \n",
       "SVR                                    SVR(C=3, degree=2, kernel='poly')   \n",
       "Ridge                                                    Ridge(alpha=10)   \n",
       "Ridge                                                    Ridge(alpha=10)   \n",
       "RandomForestRegressor  RandomForestRegressor(max_features='sqrt', n_e...   \n",
       "Lasso                                                   Lasso(alpha=0.1)   \n",
       "Lasso                                                   Lasso(alpha=0.1)   \n",
       "AdaBoostRegressor                     AdaBoostRegressor(learning_rate=1)   \n",
       "DecisionTreeRegressor  DecisionTreeRegressor(max_depth=6, min_samples...   \n",
       "Ridge                                                    Ridge(alpha=10)   \n",
       "Ridge                                                    Ridge(alpha=10)   \n",
       "SVR                               SVR(C=0.01, degree=2, kernel='linear')   \n",
       "Lasso                                                   Lasso(alpha=0.1)   \n",
       "Lasso                                                   Lasso(alpha=0.1)   \n",
       "\n",
       "                           R2    RMSE     MAE    MAPE  max_error  \\\n",
       "RandomForestRegressor  0.9827 -0.1212 -0.0590 -0.5103    -0.6903   \n",
       "AdaBoostRegressor      0.9632 -0.1813 -0.1107 -1.9330    -0.9157   \n",
       "DecisionTreeRegressor  0.9520 -0.1890 -0.0498 -0.4432    -1.1815   \n",
       "SVR                    0.8451 -0.3856 -0.2791 -1.6822    -1.4293   \n",
       "Ridge                  0.7952 -0.4476 -0.3534 -2.7222    -1.1347   \n",
       "Ridge                  0.7952 -0.4476 -0.3534 -2.7222    -1.1347   \n",
       "RandomForestRegressor  0.7589 -0.4826 -0.3589 -2.8477    -1.6235   \n",
       "Lasso                  0.7430 -0.5015 -0.3918 -1.8026    -1.2804   \n",
       "Lasso                  0.7430 -0.5015 -0.3918 -1.8026    -1.2804   \n",
       "AdaBoostRegressor      0.6948 -0.5432 -0.4345 -5.2849    -1.6545   \n",
       "DecisionTreeRegressor  0.6279 -0.5986 -0.3781 -3.5024    -2.2620   \n",
       "Ridge                  0.4698 -0.7167 -0.5503 -2.3012    -1.8400   \n",
       "Ridge                  0.4698 -0.7167 -0.5503 -2.3012    -1.8400   \n",
       "SVR                    0.4212 -0.7479 -0.5110 -1.8839    -1.9761   \n",
       "Lasso                  0.4096 -0.7565 -0.5609 -1.4472    -1.7958   \n",
       "Lasso                  0.4096 -0.7565 -0.5609 -1.4472    -1.7958   \n",
       "\n",
       "                                   mark  \n",
       "RandomForestRegressor   М12 Набор 0,0-5  \n",
       "AdaBoostRegressor       М12 Набор 0,0-5  \n",
       "DecisionTreeRegressor   М12 Набор 0,0-5  \n",
       "SVR                     М12 Набор 0,0-5  \n",
       "Ridge                   М12 Набор 0,0-5  \n",
       "Ridge                   М12 Набор 0,0-5  \n",
       "RandomForestRegressor  М12 Набор 0,5-10  \n",
       "Lasso                   М12 Набор 0,0-5  \n",
       "Lasso                   М12 Набор 0,0-5  \n",
       "AdaBoostRegressor      М12 Набор 0,5-10  \n",
       "DecisionTreeRegressor  М12 Набор 0,5-10  \n",
       "Ridge                  М12 Набор 0,5-10  \n",
       "Ridge                  М12 Набор 0,5-10  \n",
       "SVR                    М12 Набор 0,5-10  \n",
       "Lasso                  М12 Набор 0,5-10  \n",
       "Lasso                  М12 Набор 0,5-10  "
      ]
     },
     "execution_count": 50,
     "metadata": {},
     "output_type": "execute_result"
    }
   ],
   "source": [
    "res_grid_M12"
   ]
  },
  {
   "cell_type": "markdown",
   "metadata": {},
   "source": [
    "По представленной таблице видно, что набор данных с 66% корректировкой дает весьма высокую точность прогнозирования, которая увеличилась по сравнению с базовыми показателями. Однако, 33% корректировка данных показывает неплохую точность по показателю R2, однако, это лучшее значение не достаточно сбалансировано по другим показателям. \n",
    "\n",
    "Если исходить из цели минимальной корректировки исходных данных, предлагается использовать базовую модель RandomForestRegressor на наборе данных 33% с точностью R2 = 0.77086"
   ]
  },
  {
   "cell_type": "code",
   "execution_count": 51,
   "metadata": {},
   "outputs": [
    {
     "data": {
      "text/html": [
       "<div>\n",
       "<style scoped>\n",
       "    .dataframe tbody tr th:only-of-type {\n",
       "        vertical-align: middle;\n",
       "    }\n",
       "\n",
       "    .dataframe tbody tr th {\n",
       "        vertical-align: top;\n",
       "    }\n",
       "\n",
       "    .dataframe thead th {\n",
       "        text-align: right;\n",
       "    }\n",
       "</style>\n",
       "<table border=\"1\" class=\"dataframe\">\n",
       "  <thead>\n",
       "    <tr style=\"text-align: right;\">\n",
       "      <th></th>\n",
       "      <th>model</th>\n",
       "      <th>R2</th>\n",
       "      <th>RMSE</th>\n",
       "      <th>MAE</th>\n",
       "      <th>MAPE</th>\n",
       "      <th>max_error</th>\n",
       "      <th>mark</th>\n",
       "    </tr>\n",
       "  </thead>\n",
       "  <tbody>\n",
       "    <tr>\n",
       "      <th>RandomForestRegressor</th>\n",
       "      <td>RandomForestRegressor(criterion='absolute_erro...</td>\n",
       "      <td>0.4976</td>\n",
       "      <td>-0.7081</td>\n",
       "      <td>-0.4453</td>\n",
       "      <td>-1.6562</td>\n",
       "      <td>-2.6118</td>\n",
       "      <td>М13 Набор 0,0-5</td>\n",
       "    </tr>\n",
       "    <tr>\n",
       "      <th>SVR</th>\n",
       "      <td>SVR(C=1.5, degree=2, kernel='poly')</td>\n",
       "      <td>0.4728</td>\n",
       "      <td>-0.7272</td>\n",
       "      <td>-0.4862</td>\n",
       "      <td>-1.7215</td>\n",
       "      <td>-2.7269</td>\n",
       "      <td>М13 Набор 0,0-5</td>\n",
       "    </tr>\n",
       "    <tr>\n",
       "      <th>AdaBoostRegressor</th>\n",
       "      <td>AdaBoostRegressor(learning_rate=0.1)</td>\n",
       "      <td>0.4348</td>\n",
       "      <td>-0.7551</td>\n",
       "      <td>-0.5392</td>\n",
       "      <td>-1.6949</td>\n",
       "      <td>-2.5996</td>\n",
       "      <td>М13 Набор 0,0-5</td>\n",
       "    </tr>\n",
       "    <tr>\n",
       "      <th>DecisionTreeRegressor</th>\n",
       "      <td>DecisionTreeRegressor(max_depth=6)</td>\n",
       "      <td>0.3127</td>\n",
       "      <td>-0.8240</td>\n",
       "      <td>-0.5191</td>\n",
       "      <td>-1.7772</td>\n",
       "      <td>-2.9561</td>\n",
       "      <td>М13 Набор 0,0-5</td>\n",
       "    </tr>\n",
       "    <tr>\n",
       "      <th>Ridge</th>\n",
       "      <td>Ridge(alpha=20)</td>\n",
       "      <td>0.1071</td>\n",
       "      <td>-0.9500</td>\n",
       "      <td>-0.7495</td>\n",
       "      <td>-2.1938</td>\n",
       "      <td>-2.8346</td>\n",
       "      <td>М13 Набор 0,0-5</td>\n",
       "    </tr>\n",
       "    <tr>\n",
       "      <th>Lasso</th>\n",
       "      <td>Lasso(alpha=0.1)</td>\n",
       "      <td>0.0570</td>\n",
       "      <td>-0.9770</td>\n",
       "      <td>-0.7836</td>\n",
       "      <td>-1.4271</td>\n",
       "      <td>-2.8676</td>\n",
       "      <td>М13 Набор 0,0-5</td>\n",
       "    </tr>\n",
       "  </tbody>\n",
       "</table>\n",
       "</div>"
      ],
      "text/plain": [
       "                                                                   model  \\\n",
       "RandomForestRegressor  RandomForestRegressor(criterion='absolute_erro...   \n",
       "SVR                                  SVR(C=1.5, degree=2, kernel='poly')   \n",
       "AdaBoostRegressor                   AdaBoostRegressor(learning_rate=0.1)   \n",
       "DecisionTreeRegressor                 DecisionTreeRegressor(max_depth=6)   \n",
       "Ridge                                                    Ridge(alpha=20)   \n",
       "Lasso                                                   Lasso(alpha=0.1)   \n",
       "\n",
       "                           R2    RMSE     MAE    MAPE  max_error  \\\n",
       "RandomForestRegressor  0.4976 -0.7081 -0.4453 -1.6562    -2.6118   \n",
       "SVR                    0.4728 -0.7272 -0.4862 -1.7215    -2.7269   \n",
       "AdaBoostRegressor      0.4348 -0.7551 -0.5392 -1.6949    -2.5996   \n",
       "DecisionTreeRegressor  0.3127 -0.8240 -0.5191 -1.7772    -2.9561   \n",
       "Ridge                  0.1071 -0.9500 -0.7495 -2.1938    -2.8346   \n",
       "Lasso                  0.0570 -0.9770 -0.7836 -1.4271    -2.8676   \n",
       "\n",
       "                                  mark  \n",
       "RandomForestRegressor  М13 Набор 0,0-5  \n",
       "SVR                    М13 Набор 0,0-5  \n",
       "AdaBoostRegressor      М13 Набор 0,0-5  \n",
       "DecisionTreeRegressor  М13 Набор 0,0-5  \n",
       "Ridge                  М13 Набор 0,0-5  \n",
       "Lasso                  М13 Набор 0,0-5  "
      ]
     },
     "execution_count": 51,
     "metadata": {},
     "output_type": "execute_result"
    }
   ],
   "source": [
    "res_grid_M13"
   ]
  },
  {
   "cell_type": "markdown",
   "metadata": {},
   "source": [
    "По данной модели лучшим способом прогнозирования можно признать SVR в базовом варианте до исходным данным с максимальной корректировкой (66%). При этом, стоит отметить, что точность прогнозирования М13 остается весьма низкой даже на сильно корректированных исходных данных"
   ]
  },
  {
   "cell_type": "markdown",
   "metadata": {},
   "source": [
    "## 4.4 Сохранение получившихся результатов"
   ]
  },
  {
   "cell_type": "code",
   "execution_count": 62,
   "metadata": {
    "colab": {
     "base_uri": "https://localhost:8080/",
     "height": 801
    },
    "id": "TTm-PEBgZAcj",
    "outputId": "9344a9a5-c58e-42be-ccd5-2a5f1403e031"
   },
   "outputs": [],
   "source": [
    "df.to_excel(\"out_xls//df.xlsx\")\n",
    "df_main_prep.to_excel(\"out_xls//df_prep.xlsx\")\n",
    "\n",
    "df_union2.to_excel(\"out_xls//df_union2.xlsx\")\n",
    "df_union3.to_excel(\"out_xls//df_union3.xlsx\")\n",
    "df_union4.to_excel(\"out_xls//df_union4.xlsx\")\n",
    "\n",
    "df_union2_prep.to_excel(\"out_xls//df_union2_prep.xlsx\")\n",
    "df_union3_prep.to_excel(\"out_xls//df_union3_prep.xlsx\")\n",
    "df_union4_prep.to_excel(\"out_xls//df_union4_prep.xlsx\")\n",
    "\n",
    "res_as_is_M11.to_excel(\"out_xls//res_as_is_M11.xlsx\")\n",
    "res_as_is_M12.to_excel(\"out_xls//res_as_is_M12.xlsx\")\n",
    "res_as_is_M13.to_excel(\"out_xls//res_as_is_M13.xlsx\")\n",
    "\n",
    "res_grid_M11.to_excel(\"out_xls//res_grid_M11.xlsx\")\n",
    "res_grid_M12.to_excel(\"out_xls//res_grid_M12.xlsx\")\n",
    "res_grid_M13.to_excel(\"out_xls//res_grid_M13.xlsx\")\n",
    "\n",
    "    "
   ]
  },
  {
   "cell_type": "code",
   "execution_count": null,
   "metadata": {},
   "outputs": [],
   "source": []
  },
  {
   "cell_type": "markdown",
   "metadata": {},
   "source": [
    "## 4.5. Лучшие модели"
   ]
  },
  {
   "cell_type": "code",
   "execution_count": 74,
   "metadata": {},
   "outputs": [
    {
     "data": {
      "image/png": "[encoded data removed]",
      "text/plain": [
       "<Figure size 864x360 with 1 Axes>"
      ]
     },
     "metadata": {
      "needs_background": "light"
     },
     "output_type": "display_data"
    },
    {
     "data": {
      "text/html": [
       "<div>\n",
       "<style scoped>\n",
       "    .dataframe tbody tr th:only-of-type {\n",
       "        vertical-align: middle;\n",
       "    }\n",
       "\n",
       "    .dataframe tbody tr th {\n",
       "        vertical-align: top;\n",
       "    }\n",
       "\n",
       "    .dataframe thead th {\n",
       "        text-align: right;\n",
       "    }\n",
       "</style>\n",
       "<table border=\"1\" class=\"dataframe\">\n",
       "  <thead>\n",
       "    <tr style=\"text-align: right;\">\n",
       "      <th></th>\n",
       "      <th>0</th>\n",
       "      <th>Модуль упругости при растяжении, ГПа</th>\n",
       "    </tr>\n",
       "  </thead>\n",
       "  <tbody>\n",
       "    <tr>\n",
       "      <th>0</th>\n",
       "      <td>-0.086385</td>\n",
       "      <td>-0.180406</td>\n",
       "    </tr>\n",
       "    <tr>\n",
       "      <th>1</th>\n",
       "      <td>0.798043</td>\n",
       "      <td>1.068463</td>\n",
       "    </tr>\n",
       "    <tr>\n",
       "      <th>2</th>\n",
       "      <td>-0.097939</td>\n",
       "      <td>-0.180406</td>\n",
       "    </tr>\n",
       "    <tr>\n",
       "      <th>3</th>\n",
       "      <td>-0.142481</td>\n",
       "      <td>0.070782</td>\n",
       "    </tr>\n",
       "    <tr>\n",
       "      <th>4</th>\n",
       "      <td>-0.958676</td>\n",
       "      <td>-1.236688</td>\n",
       "    </tr>\n",
       "    <tr>\n",
       "      <th>...</th>\n",
       "      <td>...</td>\n",
       "      <td>...</td>\n",
       "    </tr>\n",
       "    <tr>\n",
       "      <th>299</th>\n",
       "      <td>1.420868</td>\n",
       "      <td>1.908699</td>\n",
       "    </tr>\n",
       "    <tr>\n",
       "      <th>300</th>\n",
       "      <td>-0.689336</td>\n",
       "      <td>0.053348</td>\n",
       "    </tr>\n",
       "    <tr>\n",
       "      <th>301</th>\n",
       "      <td>0.574014</td>\n",
       "      <td>0.564074</td>\n",
       "    </tr>\n",
       "    <tr>\n",
       "      <th>302</th>\n",
       "      <td>0.938928</td>\n",
       "      <td>0.945320</td>\n",
       "    </tr>\n",
       "    <tr>\n",
       "      <th>303</th>\n",
       "      <td>0.945222</td>\n",
       "      <td>0.945320</td>\n",
       "    </tr>\n",
       "  </tbody>\n",
       "</table>\n",
       "<p>304 rows × 2 columns</p>\n",
       "</div>"
      ],
      "text/plain": [
       "            0  Модуль упругости при растяжении, ГПа\n",
       "0   -0.086385                             -0.180406\n",
       "1    0.798043                              1.068463\n",
       "2   -0.097939                             -0.180406\n",
       "3   -0.142481                              0.070782\n",
       "4   -0.958676                             -1.236688\n",
       "..        ...                                   ...\n",
       "299  1.420868                              1.908699\n",
       "300 -0.689336                              0.053348\n",
       "301  0.574014                              0.564074\n",
       "302  0.938928                              0.945320\n",
       "303  0.945222                              0.945320\n",
       "\n",
       "[304 rows x 2 columns]"
      ]
     },
     "execution_count": 74,
     "metadata": {},
     "output_type": "execute_result"
    }
   ],
   "source": [
    "#Модель 11\n",
    "M11 = SVR()\n",
    "M11.fit(M11_X_train_4,np.ravel(M11_y_train_4))\n",
    "M11_pred = M11.predict(M11_X_test_4)\n",
    "M11_test = M11_y_test_4.reset_index(drop=True,inplace=False)\n",
    "\n",
    "fig, ax = plt.subplots(figsize=(12, 5))\n",
    "ax.plot(M11_test, label='Y Test')\n",
    "ax.plot(M11_pred, label='Y Predicted')\n",
    "ax.legend()\n",
    "plt.grid(1)\n",
    "plt.savefig('out_pics//Model11')\n",
    "plt.show()\n",
    "pd.DataFrame(M11_pred).join(M11_test.reset_index(drop=True,inplace=False),  how='inner')\n"
   ]
  },
  {
   "cell_type": "code",
   "execution_count": 73,
   "metadata": {},
   "outputs": [
    {
     "data": {
      "image/png": "[encoded data removed]",
      "text/plain": [
       "<Figure size 864x360 with 1 Axes>"
      ]
     },
     "metadata": {
      "needs_background": "light"
     },
     "output_type": "display_data"
    },
    {
     "data": {
      "text/html": [
       "<div>\n",
       "<style scoped>\n",
       "    .dataframe tbody tr th:only-of-type {\n",
       "        vertical-align: middle;\n",
       "    }\n",
       "\n",
       "    .dataframe tbody tr th {\n",
       "        vertical-align: top;\n",
       "    }\n",
       "\n",
       "    .dataframe thead th {\n",
       "        text-align: right;\n",
       "    }\n",
       "</style>\n",
       "<table border=\"1\" class=\"dataframe\">\n",
       "  <thead>\n",
       "    <tr style=\"text-align: right;\">\n",
       "      <th></th>\n",
       "      <th>0</th>\n",
       "      <th>Прочность при растяжении, МПа</th>\n",
       "    </tr>\n",
       "  </thead>\n",
       "  <tbody>\n",
       "    <tr>\n",
       "      <th>0</th>\n",
       "      <td>-0.814837</td>\n",
       "      <td>-1.760681</td>\n",
       "    </tr>\n",
       "    <tr>\n",
       "      <th>1</th>\n",
       "      <td>1.067294</td>\n",
       "      <td>1.060640</td>\n",
       "    </tr>\n",
       "    <tr>\n",
       "      <th>2</th>\n",
       "      <td>-0.952939</td>\n",
       "      <td>-0.663497</td>\n",
       "    </tr>\n",
       "    <tr>\n",
       "      <th>3</th>\n",
       "      <td>0.900671</td>\n",
       "      <td>0.915486</td>\n",
       "    </tr>\n",
       "    <tr>\n",
       "      <th>4</th>\n",
       "      <td>-0.385373</td>\n",
       "      <td>-1.032939</td>\n",
       "    </tr>\n",
       "    <tr>\n",
       "      <th>...</th>\n",
       "      <td>...</td>\n",
       "      <td>...</td>\n",
       "    </tr>\n",
       "    <tr>\n",
       "      <th>299</th>\n",
       "      <td>-0.496613</td>\n",
       "      <td>0.060149</td>\n",
       "    </tr>\n",
       "    <tr>\n",
       "      <th>300</th>\n",
       "      <td>-1.372540</td>\n",
       "      <td>-1.568241</td>\n",
       "    </tr>\n",
       "    <tr>\n",
       "      <th>301</th>\n",
       "      <td>-0.395126</td>\n",
       "      <td>0.723650</td>\n",
       "    </tr>\n",
       "    <tr>\n",
       "      <th>302</th>\n",
       "      <td>-0.351496</td>\n",
       "      <td>-0.188194</td>\n",
       "    </tr>\n",
       "    <tr>\n",
       "      <th>303</th>\n",
       "      <td>-0.272479</td>\n",
       "      <td>-0.016223</td>\n",
       "    </tr>\n",
       "  </tbody>\n",
       "</table>\n",
       "<p>304 rows × 2 columns</p>\n",
       "</div>"
      ],
      "text/plain": [
       "            0  Прочность при растяжении, МПа\n",
       "0   -0.814837                      -1.760681\n",
       "1    1.067294                       1.060640\n",
       "2   -0.952939                      -0.663497\n",
       "3    0.900671                       0.915486\n",
       "4   -0.385373                      -1.032939\n",
       "..        ...                            ...\n",
       "299 -0.496613                       0.060149\n",
       "300 -1.372540                      -1.568241\n",
       "301 -0.395126                       0.723650\n",
       "302 -0.351496                      -0.188194\n",
       "303 -0.272479                      -0.016223\n",
       "\n",
       "[304 rows x 2 columns]"
      ]
     },
     "execution_count": 73,
     "metadata": {},
     "output_type": "execute_result"
    }
   ],
   "source": [
    "#Модель2\n",
    "M12 = RandomForestRegressor()\n",
    "M12.fit(M12_X_train_3,np.ravel(M12_y_train_3))\n",
    "M12_pred = M12.predict(M12_X_test_3)\n",
    "M12_test = M12_y_test_3.reset_index(drop=True,inplace=False)\n",
    "\n",
    "fig, ax = plt.subplots(figsize=(12, 5))\n",
    "ax.plot(M11_test, label='Y Test')\n",
    "ax.plot(M11_pred, label='Y Predicted')\n",
    "ax.legend()\n",
    "plt.grid(1)\n",
    "plt.savefig('out_pics//Model12')\n",
    "plt.show()\n",
    "pd.DataFrame(M12_pred).join(M12_test.reset_index(drop=True,inplace=False),  how='inner')"
   ]
  },
  {
   "cell_type": "code",
   "execution_count": 75,
   "metadata": {},
   "outputs": [
    {
     "data": {
      "image/png": "[encoded data removed]",
      "text/plain": [
       "<Figure size 864x360 with 1 Axes>"
      ]
     },
     "metadata": {
      "needs_background": "light"
     },
     "output_type": "display_data"
    },
    {
     "data": {
      "text/html": [
       "<div>\n",
       "<style scoped>\n",
       "    .dataframe tbody tr th:only-of-type {\n",
       "        vertical-align: middle;\n",
       "    }\n",
       "\n",
       "    .dataframe tbody tr th {\n",
       "        vertical-align: top;\n",
       "    }\n",
       "\n",
       "    .dataframe thead th {\n",
       "        text-align: right;\n",
       "    }\n",
       "</style>\n",
       "<table border=\"1\" class=\"dataframe\">\n",
       "  <thead>\n",
       "    <tr style=\"text-align: right;\">\n",
       "      <th></th>\n",
       "      <th>0</th>\n",
       "      <th>Соотношение матрица-наполнитель</th>\n",
       "    </tr>\n",
       "  </thead>\n",
       "  <tbody>\n",
       "    <tr>\n",
       "      <th>0</th>\n",
       "      <td>0.689981</td>\n",
       "      <td>-0.629977</td>\n",
       "    </tr>\n",
       "    <tr>\n",
       "      <th>1</th>\n",
       "      <td>-0.390767</td>\n",
       "      <td>-0.543938</td>\n",
       "    </tr>\n",
       "    <tr>\n",
       "      <th>2</th>\n",
       "      <td>0.886949</td>\n",
       "      <td>-0.199050</td>\n",
       "    </tr>\n",
       "    <tr>\n",
       "      <th>3</th>\n",
       "      <td>0.090856</td>\n",
       "      <td>0.050267</td>\n",
       "    </tr>\n",
       "    <tr>\n",
       "      <th>4</th>\n",
       "      <td>0.500649</td>\n",
       "      <td>-0.263980</td>\n",
       "    </tr>\n",
       "    <tr>\n",
       "      <th>...</th>\n",
       "      <td>...</td>\n",
       "      <td>...</td>\n",
       "    </tr>\n",
       "    <tr>\n",
       "      <th>299</th>\n",
       "      <td>1.694863</td>\n",
       "      <td>1.618054</td>\n",
       "    </tr>\n",
       "    <tr>\n",
       "      <th>300</th>\n",
       "      <td>-0.685291</td>\n",
       "      <td>-0.545521</td>\n",
       "    </tr>\n",
       "    <tr>\n",
       "      <th>301</th>\n",
       "      <td>1.681164</td>\n",
       "      <td>1.618054</td>\n",
       "    </tr>\n",
       "    <tr>\n",
       "      <th>302</th>\n",
       "      <td>0.392948</td>\n",
       "      <td>0.189190</td>\n",
       "    </tr>\n",
       "    <tr>\n",
       "      <th>303</th>\n",
       "      <td>0.158743</td>\n",
       "      <td>0.286397</td>\n",
       "    </tr>\n",
       "  </tbody>\n",
       "</table>\n",
       "<p>304 rows × 2 columns</p>\n",
       "</div>"
      ],
      "text/plain": [
       "            0  Соотношение матрица-наполнитель\n",
       "0    0.689981                        -0.629977\n",
       "1   -0.390767                        -0.543938\n",
       "2    0.886949                        -0.199050\n",
       "3    0.090856                         0.050267\n",
       "4    0.500649                        -0.263980\n",
       "..        ...                              ...\n",
       "299  1.694863                         1.618054\n",
       "300 -0.685291                        -0.545521\n",
       "301  1.681164                         1.618054\n",
       "302  0.392948                         0.189190\n",
       "303  0.158743                         0.286397\n",
       "\n",
       "[304 rows x 2 columns]"
      ]
     },
     "execution_count": 75,
     "metadata": {},
     "output_type": "execute_result"
    }
   ],
   "source": [
    "#Модель 13\n",
    "M13 = SVR()\n",
    "M13.fit(M13_X_train_4,np.ravel(M13_y_train_4))\n",
    "M13_pred = M13.predict(M13_X_test_4)\n",
    "M13_test = M13_y_test_4.reset_index(drop=True,inplace=False)\n",
    "\n",
    "fig, ax = plt.subplots(figsize=(12, 5))\n",
    "ax.plot(M11_test, label='Y Test')\n",
    "ax.plot(M11_pred, label='Y Predicted')\n",
    "ax.legend()\n",
    "plt.grid(1)\n",
    "plt.savefig('out_pics//Model13')\n",
    "plt.show()\n",
    "pd.DataFrame(M13_pred).join(M13_test.reset_index(drop=True,inplace=False),  how='inner')"
   ]
  },
  {
   "cell_type": "code",
   "execution_count": 76,
   "metadata": {},
   "outputs": [],
   "source": [
    "#Сохраним модели\n",
    "import pickle\n",
    "pickle.dump(M11, open('out_models//M11.pkl', 'wb'))\n",
    "pickle.dump(M12, open('out_models//M12.pkl', 'wb'))\n",
    "pickle.dump(M13, open('out_models//M13.pkl', 'wb'))"
   ]
  },
  {
   "cell_type": "markdown",
   "metadata": {},
   "source": [
    "## 4.6. Нейронные сети"
   ]
  },
  {
   "cell_type": "markdown",
   "metadata": {},
   "source": [
    "Целью данного раздела является попытка улучшения характеристик модели М13 по набоорам данных с 33% корректировкой и 66% корректировкой. По изначальному набору данных и по набору данных с 12% корректировкой выполнение задачи видится маловерооятным в связи с низкой сбалансированностью исходных данных.\n",
    "Наборы данных будем использовать стандартизованные и изначально сформированные с целью использоания первого нормирующего слоя"
   ]
  },
  {
   "cell_type": "code",
   "execution_count": 77,
   "metadata": {},
   "outputs": [
    {
     "name": "stdout",
     "output_type": "stream",
     "text": [
      "2.9.1\n"
     ]
    }
   ],
   "source": [
    "import tensorflow as tf\n",
    "from tensorflow import keras\n",
    "from tensorflow.keras import layers\n",
    "from keras.callbacks import ModelCheckpoint, EarlyStopping\n",
    "\n",
    "print(tf.__version__)"
   ]
  },
  {
   "cell_type": "code",
   "execution_count": 79,
   "metadata": {},
   "outputs": [],
   "source": [
    "def get_metrics(model_name, y, y_pred):\n",
    "    stat = pd.DataFrame()\n",
    "    stat.loc[model_name, 'R2'] = metrics.r2_score(y, y_pred)\n",
    "    stat.loc[model_name, 'RMSE'] = metrics.mean_squared_error(y, y_pred, squared=False) * -1\n",
    "    stat.loc[model_name, 'MAE'] = metrics.mean_absolute_error(y, y_pred) * -1\n",
    "    stat.loc[model_name, 'MAPE'] = metrics.mean_absolute_percentage_error(y, y_pred) * -1\n",
    "    stat.loc[model_name, 'max_error'] = metrics.max_error(y, y_pred) * -1\n",
    "    return stat"
   ]
  },
  {
   "cell_type": "code",
   "execution_count": 81,
   "metadata": {},
   "outputs": [],
   "source": [
    "def normalizer(X):\n",
    "    normalizer = tf.keras.layers.Normalization(axis=-1)\n",
    "    normalizer.adapt(np.array(X))\n",
    "    return normalizer"
   ]
  },
  {
   "cell_type": "code",
   "execution_count": 162,
   "metadata": {},
   "outputs": [],
   "source": [
    "# Визуализация\n",
    "def plot_loss(history):\n",
    "    plt.plot(history.history['loss'], label='loss')\n",
    "    plt.plot(history.history['val_loss'], label='val_loss')\n",
    "    plt.ylim([0, 5])\n",
    "    plt.xlabel('Эпоха')\n",
    "    plt.ylabel('MSE')\n",
    "    plt.legend()\n",
    "    plt.grid(True)"
   ]
  },
  {
   "cell_type": "code",
   "execution_count": 200,
   "metadata": {},
   "outputs": [],
   "source": [
    "#Сформируем наборы X и Y\n",
    "\n",
    "#1. По стандартизированным данным 33%\n",
    "   # M13_X_train_3\n",
    "   # M13_y_train_3\n",
    "   # M13_X_test_3\n",
    "   # M13_y_test_3\n",
    "\n",
    "#2. По нестандартизированным данным 33%\n",
    "M13_X_train_3_NO, M13_X_test_3_NO, M13_y_train_3_NO, M13_y_test_3_NO = train_test_split(df_union3[Mod_13_X], df_union3[Mod_13_y], test_size=0.3)\n",
    "norm3 = normalizer(df_union3[Mod_13_X])\n",
    "\n",
    "#3. По стандартизированным данным 66%\n",
    "   # M13_X_train_4\n",
    "   # M13_y_train_4\n",
    "   # M13_X_test_4\n",
    "   # M13_y_test_4\n",
    "\n",
    "#4. По нестандартизированным данным 66%\n",
    "M13_X_train_4_NO, M13_X_test_4_NO, M13_y_train_4_NO, M13_y_test_4_NO = train_test_split(df_union4[Mod_13_X], df_union4[Mod_13_y], test_size=0.3)\n",
    "norm4 = normalizer(df_union4[Mod_13_X])"
   ]
  },
  {
   "cell_type": "code",
   "execution_count": 280,
   "metadata": {},
   "outputs": [],
   "source": [
    "def nm1_n(norm):\n",
    "    \n",
    "    model = keras.Sequential([\n",
    "         norm,\n",
    "          layers.Dense(64, activation='relu'),\n",
    "          layers.Dense(64, activation='relu'),\n",
    "          layers.Dense(32, activation='relu'),\n",
    "          layers.Dense(32, activation='relu'),      \n",
    "          layers.Dropout(0.5),\n",
    "          layers.Dense(64, activation='relu'),\n",
    "          layers.Dense(32, activation='relu'),\n",
    "          layers.Dense(16, activation='sigmoid'),\n",
    "          layers.Dropout(0.6),\n",
    "          layers.Dense(32, activation='relu'),\n",
    "          layers.Dense(16, activation='sigmoid'),\n",
    "          layers.Dropout(0.4),\n",
    "          layers.Dense(8, activation='relu'),\n",
    "          layers.Dense(1)\n",
    "        ])\n",
    "    model.compile(loss='mean_squared_error',\n",
    "                optimizer=tf.keras.optimizers.Adam(0.0001))\n",
    "    return model"
   ]
  },
  {
   "cell_type": "code",
   "execution_count": 281,
   "metadata": {},
   "outputs": [],
   "source": [
    "def nm2_n(norm):\n",
    "    \n",
    "    model = keras.Sequential([\n",
    "          norm,\n",
    "          layers.Dense(64, activation='relu'),\n",
    "          layers.Dense(64, activation='relu'), \n",
    "          layers.Dense(32, activation='relu'),      \n",
    "          layers.Dropout(0.5),\n",
    "          layers.Dense(64, activation='relu'),\n",
    "          layers.Dense(32, activation='relu'),\n",
    "          layers.Dense(32, activation='relu'),\n",
    "          layers.Dropout(0.6),\n",
    "          layers.Dense(32, activation='relu'),\n",
    "          layers.Dense(16, activation='relu'),\n",
    "          layers.Dropout(0.4),\n",
    "          layers.Dense(8, activation='relu'),\n",
    "          layers.Dense(1)\n",
    "        ])\n",
    "    model.compile(loss='mean_squared_error',\n",
    "                optimizer=tf.keras.optimizers.Adam(0.001))\n",
    "    return model"
   ]
  },
  {
   "cell_type": "code",
   "execution_count": 282,
   "metadata": {},
   "outputs": [],
   "source": [
    "def nm3_n(norm):\n",
    "    model = keras.Sequential([\n",
    "      norm,    \n",
    "      layers.Dense(32, activation='relu'),\n",
    "      layers.Dense(32, activation='relu'),\n",
    "      layers.Dense(32, activation='relu'),  \n",
    "      layers.Dropout(0.6),\n",
    "      layers.Dense(16, activation='relu'),\n",
    "      layers.Dense(16, activation='relu'), \n",
    "      layers.Dense(16, activation='relu'), \n",
    "      layers.Dropout(0.6),\n",
    "      layers.Dense(64, activation='relu'),\n",
    "      layers.Dense(32, activation='relu'),\n",
    "      layers.Dense(16, activation='relu'),\n",
    "      layers.Dense(1) ])\n",
    "\n",
    "    model.compile(loss='mean_absolute_error',\n",
    "                optimizer=tf.keras.optimizers.RMSprop(0.001))\n",
    "    return model"
   ]
  },
  {
   "cell_type": "code",
   "execution_count": 283,
   "metadata": {},
   "outputs": [],
   "source": [
    "def nm1():\n",
    "    \n",
    "    model = keras.Sequential([\n",
    "         \n",
    "          layers.Dense(64, activation='relu'),\n",
    "          layers.Dense(64, activation='relu'),\n",
    "          layers.Dense(32, activation='relu'),\n",
    "          layers.Dense(32, activation='relu'),      \n",
    "          layers.Dropout(0.5),\n",
    "          layers.Dense(64, activation='relu'),\n",
    "          layers.Dense(32, activation='relu'),\n",
    "          layers.Dense(32, activation='sigmoid'),\n",
    "          layers.Dropout(0.4),\n",
    "          layers.Dense(32, activation='relu'),\n",
    "          layers.Dense(32, activation='sigmoid'),\n",
    "          layers.Dropout(0.5),\n",
    "          layers.Dense(16, activation='relu'),\n",
    "          layers.Dense(1), \n",
    "         \n",
    "         layers.Dense(1)\n",
    "        ])\n",
    "    model.compile(loss='mean_squared_error',\n",
    "                optimizer=tf.keras.optimizers.Adam(0.0001))\n",
    "    return model"
   ]
  },
  {
   "cell_type": "code",
   "execution_count": 284,
   "metadata": {},
   "outputs": [],
   "source": [
    "def nm2():\n",
    "    \n",
    "    model = keras.Sequential([\n",
    "          \n",
    "          layers.Dense(64, activation='relu'),\n",
    "          layers.Dense(64, activation='relu'), \n",
    "          layers.Dense(32, activation='relu'),      \n",
    "          layers.Dropout(0.5),\n",
    "          layers.Dense(64, activation='relu'),\n",
    "          layers.Dense(32, activation='relu'),\n",
    "          layers.Dense(16, activation='relu'),\n",
    "          layers.Dropout(0.6),\n",
    "          layers.Dense(32, activation='relu'),\n",
    "          layers.Dense(16, activation='relu'),\n",
    "          layers.Dropout(0.4),\n",
    "          layers.Dense(8, activation='relu'),\n",
    "          layers.Dense(1)\n",
    "        ])\n",
    "    model.compile(loss='mean_squared_error',\n",
    "                optimizer=tf.keras.optimizers.Adam(0.001))\n",
    "    return model"
   ]
  },
  {
   "cell_type": "code",
   "execution_count": 285,
   "metadata": {},
   "outputs": [],
   "source": [
    "def nm3():\n",
    "    model = keras.Sequential([\n",
    "       \n",
    "      layers.Dense(32, activation='relu'),\n",
    "      layers.Dense(32, activation='relu'),\n",
    "      layers.Dense(32, activation='relu'),  \n",
    "      layers.Dropout(0.6),\n",
    "      layers.Dense(16, activation='relu'),\n",
    "      layers.Dense(16, activation='relu'), \n",
    "      layers.Dense(16, activation='relu'), \n",
    "      layers.Dropout(0.6),\n",
    "      layers.Dense(64, activation='relu'),\n",
    "      layers.Dense(32, activation='relu'),\n",
    "      layers.Dense(16, activation='relu'),\n",
    "      layers.Dense(1)\n",
    "    ])\n",
    "\n",
    "    model.compile(loss='mean_absolute_error',\n",
    "                optimizer=tf.keras.optimizers.RMSprop(0.001))\n",
    "    return model"
   ]
  },
  {
   "cell_type": "code",
   "execution_count": 286,
   "metadata": {
    "colab": {
     "base_uri": "https://localhost:8080/"
    },
    "id": "vJ6gNrSsrimv",
    "outputId": "2f5c46b3-c1eb-42f9-8a95-47455713b518"
   },
   "outputs": [
    {
     "name": "stdout",
     "output_type": "stream",
     "text": [
      "net1\n",
      "net2\n",
      "net1\n",
      "10/10 [==============================] - 0s 2ms/step\n",
      "10/10 [==============================] - 0s 1ms/step\n",
      "10/10 [==============================] - 0s 1ms/step\n"
     ]
    }
   ],
   "source": [
    "# Комплекс нейронных сетей с нормализацией\n",
    "res_k1 = pd.DataFrame()\n",
    "net_1 = nm1_n(norm3)\n",
    "history1 = net_1.fit(\n",
    "    M13_X_train_3_NO.values,\n",
    "    M13_y_train_3_NO.values,\n",
    "    epochs=100,\n",
    "    verbose=0,\n",
    "    validation_split = 0.3)\n",
    "print('net1')\n",
    "net_2 = nm2_n(norm3)\n",
    "history2 = net_2.fit(\n",
    "    M13_X_train_3_NO.values,\n",
    "    M13_y_train_3_NO.values,\n",
    "    epochs=20,\n",
    "    verbose=0,\n",
    "    validation_split = 0.2)\n",
    "print('net2')\n",
    "net_3 = nm3_n(norm3)\n",
    "history3 = net_3.fit(\n",
    "    M13_X_train_3_NO.values,\n",
    "    M13_y_train_3_NO.values,\n",
    "    epochs=50,\n",
    "    verbose=0,\n",
    "    validation_split = 0.3)\n",
    "print('net1')\n",
    "\n",
    "res_k1 = pd.concat([res_k1, get_metrics('net_1_n_3', M13_y_test_3_NO, net_1.predict(M13_X_test_3_NO)),\n",
    "                            get_metrics('net_2_n_3', M13_y_test_3_NO, net_2.predict(M13_X_test_3_NO)),\n",
    "                            get_metrics('net_3_n_3', M13_y_test_3_NO, net_3.predict(M13_X_test_3_NO))])"
   ]
  },
  {
   "cell_type": "code",
   "execution_count": 287,
   "metadata": {},
   "outputs": [
    {
     "name": "stdout",
     "output_type": "stream",
     "text": [
      "net1\n",
      "net2\n",
      "net1\n",
      "10/10 [==============================] - 0s 2ms/step\n",
      "10/10 [==============================] - 0s 2ms/step\n",
      "10/10 [==============================] - 0s 2ms/step\n"
     ]
    }
   ],
   "source": [
    "res_k2 = pd.DataFrame()\n",
    "net_4 = nm1_n(norm4)\n",
    "history4 = net_4.fit(\n",
    "    M13_X_train_4_NO.values,\n",
    "    M13_y_train_4_NO.values,\n",
    "    epochs=100,\n",
    "    verbose=0,\n",
    "    validation_split = 0.3)\n",
    "print('net1')\n",
    "net_5 = nm2_n(norm4)\n",
    "history5 = net_5.fit(\n",
    "    M13_X_train_4_NO.values,\n",
    "    M13_y_train_4_NO.values,\n",
    "    epochs=20,\n",
    "    verbose=0,\n",
    "    validation_split = 0.2)\n",
    "print('net2')\n",
    "net_6 = nm3_n(norm4)\n",
    "history6 = net_6.fit(\n",
    "    M13_X_train_4_NO.values,\n",
    "    M13_y_train_4_NO.values,\n",
    "    epochs=50,\n",
    "    verbose=0,\n",
    "    validation_split = 0.3)\n",
    "print('net1')\n",
    "\n",
    "res_k2 = pd.concat([res_k2, get_metrics('net_1_n_4', M13_y_test_4_NO, net_1.predict(M13_X_test_4_NO)),\n",
    "                          get_metrics('net_2_n_4', M13_y_test_4_NO, net_2.predict(M13_X_test_4_NO)),\n",
    "                          get_metrics('net_3_n_4', M13_y_test_4_NO, net_3.predict(M13_X_test_4_NO))])"
   ]
  },
  {
   "cell_type": "code",
   "execution_count": 288,
   "metadata": {},
   "outputs": [
    {
     "name": "stdout",
     "output_type": "stream",
     "text": [
      "net1\n",
      "net2\n",
      "net1\n",
      "10/10 [==============================] - 0s 1ms/step\n",
      "10/10 [==============================] - 0s 1ms/step\n",
      "10/10 [==============================] - 0s 997us/step\n"
     ]
    }
   ],
   "source": [
    "#Комплекс для сетей без нормализации\n",
    "res_k3 = pd.DataFrame()\n",
    "net_7 = nm1()\n",
    "history7 = net_7.fit(\n",
    "    M13_X_train_3.values,\n",
    "    M13_y_train_3.values,\n",
    "    epochs=80,\n",
    "    verbose=0,\n",
    "    validation_split = 0.3)\n",
    "print('net1')\n",
    "net_8 = nm2()\n",
    "history8 = net_8.fit(\n",
    "    M13_X_train_3.values,\n",
    "    M13_y_train_3.values,\n",
    "    epochs=20,\n",
    "    verbose=0,\n",
    "    validation_split = 0.2)\n",
    "print('net2')\n",
    "net_9 = nm3()\n",
    "history9 = net_9.fit(\n",
    "    M13_X_train_3.values,\n",
    "    M13_y_train_3.values,\n",
    "    epochs=50,\n",
    "    verbose=0,\n",
    "    validation_split = 0.3)\n",
    "print('net1')\n",
    "\n",
    "\n",
    "res_k3 =   pd.concat([res_k3, get_metrics('net_1_3', M13_y_test_3, net_1.predict(M13_X_test_3)),\n",
    "                            get_metrics('net_2_3', M13_y_test_3, net_2.predict(M13_X_test_3)),\n",
    "                            get_metrics('net_3_3', M13_y_test_3, net_3.predict(M13_X_test_3))])"
   ]
  },
  {
   "cell_type": "code",
   "execution_count": 289,
   "metadata": {},
   "outputs": [
    {
     "name": "stdout",
     "output_type": "stream",
     "text": [
      "net1\n",
      "net2\n",
      "net1\n",
      "10/10 [==============================] - 0s 1ms/step\n",
      "10/10 [==============================] - 0s 1ms/step\n",
      "10/10 [==============================] - 0s 1ms/step\n"
     ]
    }
   ],
   "source": [
    "#Комплекс для сетей без нормализации\n",
    "res_k4 = pd.DataFrame()\n",
    "net_10 = nm1()\n",
    "history10 = net_10.fit(\n",
    "    M13_X_train_4.values,\n",
    "    M13_y_train_4.values,\n",
    "    epochs=100,\n",
    "    verbose=0,\n",
    "    validation_split = 0.2)\n",
    "print('net1')\n",
    "net_11 = nm2()\n",
    "history11 = net_11.fit(\n",
    "    M13_X_train_4.values,\n",
    "    M13_y_train_4.values,\n",
    "    epochs=20,\n",
    "    verbose=0,\n",
    "    validation_split = 0.2)\n",
    "print('net2')\n",
    "net_12 = nm3()\n",
    "history12 = net_12.fit(\n",
    "    M13_X_train_4.values,\n",
    "    M13_y_train_4.values,\n",
    "    epochs=50,\n",
    "    verbose=0,\n",
    "    validation_split = 0.3)\n",
    "print('net1')\n",
    "\n",
    "res_k4 =   pd.concat([res_k4, get_metrics('net_1_4', M13_y_test_4, net_1.predict(M13_X_test_4)),\n",
    "                            get_metrics('net_2_4', M13_y_test_4, net_2.predict(M13_X_test_4)),\n",
    "                            get_metrics('net_3_4', M13_y_test_4, net_3.predict(M13_X_test_4))])"
   ]
  },
  {
   "cell_type": "code",
   "execution_count": 303,
   "metadata": {},
   "outputs": [
    {
     "data": {
      "text/html": [
       "<div>\n",
       "<style scoped>\n",
       "    .dataframe tbody tr th:only-of-type {\n",
       "        vertical-align: middle;\n",
       "    }\n",
       "\n",
       "    .dataframe tbody tr th {\n",
       "        vertical-align: top;\n",
       "    }\n",
       "\n",
       "    .dataframe thead th {\n",
       "        text-align: right;\n",
       "    }\n",
       "</style>\n",
       "<table border=\"1\" class=\"dataframe\">\n",
       "  <thead>\n",
       "    <tr style=\"text-align: right;\">\n",
       "      <th></th>\n",
       "      <th>R2</th>\n",
       "      <th>RMSE</th>\n",
       "      <th>MAE</th>\n",
       "      <th>MAPE</th>\n",
       "      <th>max_error</th>\n",
       "    </tr>\n",
       "  </thead>\n",
       "  <tbody>\n",
       "    <tr>\n",
       "      <th>net_1_n_4</th>\n",
       "      <td>0.000245</td>\n",
       "      <td>-0.372993</td>\n",
       "      <td>-0.291748</td>\n",
       "      <td>-0.101408</td>\n",
       "      <td>-1.783102</td>\n",
       "    </tr>\n",
       "    <tr>\n",
       "      <th>net_1_n_3</th>\n",
       "      <td>-0.000096</td>\n",
       "      <td>-0.542071</td>\n",
       "      <td>-0.393315</td>\n",
       "      <td>-0.151493</td>\n",
       "      <td>-2.022241</td>\n",
       "    </tr>\n",
       "    <tr>\n",
       "      <th>net_3_n_3</th>\n",
       "      <td>-0.025008</td>\n",
       "      <td>-0.548781</td>\n",
       "      <td>-0.405766</td>\n",
       "      <td>-0.151952</td>\n",
       "      <td>-1.950605</td>\n",
       "    </tr>\n",
       "    <tr>\n",
       "      <th>net_3_n_4</th>\n",
       "      <td>-0.050176</td>\n",
       "      <td>-0.382283</td>\n",
       "      <td>-0.293899</td>\n",
       "      <td>-0.099477</td>\n",
       "      <td>-1.870926</td>\n",
       "    </tr>\n",
       "    <tr>\n",
       "      <th>net_2_n_3</th>\n",
       "      <td>-0.580006</td>\n",
       "      <td>-0.681341</td>\n",
       "      <td>-0.554922</td>\n",
       "      <td>-0.187814</td>\n",
       "      <td>-2.209125</td>\n",
       "    </tr>\n",
       "    <tr>\n",
       "      <th>net_2_n_4</th>\n",
       "      <td>-1.131751</td>\n",
       "      <td>-0.544656</td>\n",
       "      <td>-0.430426</td>\n",
       "      <td>-0.138440</td>\n",
       "      <td>-2.180530</td>\n",
       "    </tr>\n",
       "    <tr>\n",
       "      <th>net_1_3</th>\n",
       "      <td>-8.318406</td>\n",
       "      <td>-3.037342</td>\n",
       "      <td>-2.876429</td>\n",
       "      <td>-76.591224</td>\n",
       "      <td>-5.436638</td>\n",
       "    </tr>\n",
       "    <tr>\n",
       "      <th>net_1_4</th>\n",
       "      <td>-9.002839</td>\n",
       "      <td>-3.058803</td>\n",
       "      <td>-2.925103</td>\n",
       "      <td>-17.118289</td>\n",
       "      <td>-5.296246</td>\n",
       "    </tr>\n",
       "    <tr>\n",
       "      <th>net_2_3</th>\n",
       "      <td>-19.446785</td>\n",
       "      <td>-4.499202</td>\n",
       "      <td>-4.388396</td>\n",
       "      <td>-116.410387</td>\n",
       "      <td>-6.941596</td>\n",
       "    </tr>\n",
       "    <tr>\n",
       "      <th>net_2_4</th>\n",
       "      <td>-20.890500</td>\n",
       "      <td>-4.524991</td>\n",
       "      <td>-4.424125</td>\n",
       "      <td>-25.922054</td>\n",
       "      <td>-6.793174</td>\n",
       "    </tr>\n",
       "    <tr>\n",
       "      <th>net_3_3</th>\n",
       "      <td>-25.891547</td>\n",
       "      <td>-5.159776</td>\n",
       "      <td>-5.062952</td>\n",
       "      <td>-134.140107</td>\n",
       "      <td>-7.629588</td>\n",
       "    </tr>\n",
       "    <tr>\n",
       "      <th>net_3_4</th>\n",
       "      <td>-27.773466</td>\n",
       "      <td>-5.187833</td>\n",
       "      <td>-5.096151</td>\n",
       "      <td>-30.008266</td>\n",
       "      <td>-7.529800</td>\n",
       "    </tr>\n",
       "  </tbody>\n",
       "</table>\n",
       "</div>"
      ],
      "text/plain": [
       "                  R2      RMSE       MAE        MAPE  max_error\n",
       "net_1_n_4   0.000245 -0.372993 -0.291748   -0.101408  -1.783102\n",
       "net_1_n_3  -0.000096 -0.542071 -0.393315   -0.151493  -2.022241\n",
       "net_3_n_3  -0.025008 -0.548781 -0.405766   -0.151952  -1.950605\n",
       "net_3_n_4  -0.050176 -0.382283 -0.293899   -0.099477  -1.870926\n",
       "net_2_n_3  -0.580006 -0.681341 -0.554922   -0.187814  -2.209125\n",
       "net_2_n_4  -1.131751 -0.544656 -0.430426   -0.138440  -2.180530\n",
       "net_1_3    -8.318406 -3.037342 -2.876429  -76.591224  -5.436638\n",
       "net_1_4    -9.002839 -3.058803 -2.925103  -17.118289  -5.296246\n",
       "net_2_3   -19.446785 -4.499202 -4.388396 -116.410387  -6.941596\n",
       "net_2_4   -20.890500 -4.524991 -4.424125  -25.922054  -6.793174\n",
       "net_3_3   -25.891547 -5.159776 -5.062952 -134.140107  -7.629588\n",
       "net_3_4   -27.773466 -5.187833 -5.096151  -30.008266  -7.529800"
      ]
     },
     "execution_count": 303,
     "metadata": {},
     "output_type": "execute_result"
    }
   ],
   "source": [
    "res_k = pd.DataFrame()\n",
    "res_k =   pd.concat([res_k1, res_k2, res_k3, res_k4])\n",
    "res_k = res_k.sort_values(by='R2', ascending=False)\n",
    "res_k.to_excel(\"out_xls//res_k.xlsx\")\n",
    "res_k"
   ]
  },
  {
   "cell_type": "markdown",
   "metadata": {},
   "source": [
    "Из приоженной таблицы видно, что лучшая сеть получислась при следующих результатах\n",
    "         \n",
    "      layers.Dense(64, activation='relu'),\n",
    "          layers.Dense(64, activation='relu'),\n",
    "          layers.Dense(32, activation='relu'),\n",
    "          layers.Dense(32, activation='relu'),      \n",
    "          layers.Dropout(0.5),\n",
    "          layers.Dense(64, activation='relu'),\n",
    "          layers.Dense(32, activation='relu'),\n",
    "          layers.Dense(32, activation='sigmoid'),\n",
    "          layers.Dropout(0.4),\n",
    "          layers.Dense(32, activation='relu'),\n",
    "          layers.Dense(32, activation='sigmoid'),\n",
    "          layers.Dropout(0.5),\n",
    "          layers.Dense(16, activation='relu'),\n",
    "          layers.Dense(1),\n",
    " epochs=100\n",
    "Но все равно результат получился Значительно хуже, чем при прогнозировании методом регрессионного анализа SVR(). Можно сказать, что нейронную сеть не удалось подобрать"
   ]
  },
  {
   "cell_type": "code",
   "execution_count": 302,
   "metadata": {},
   "outputs": [
    {
     "data": {
      "image/png": "[encoded data removed]",
      "text/plain": [
       "<Figure size 432x288 with 1 Axes>"
      ]
     },
     "metadata": {
      "needs_background": "light"
     },
     "output_type": "display_data"
    }
   ],
   "source": [
    "#Отобразим процесс обучения \n",
    "plot_loss(history10)\n",
    "plt.savefig('out_pics//net_1_4')"
   ]
  },
  {
   "cell_type": "code",
   "execution_count": 296,
   "metadata": {},
   "outputs": [
    {
     "name": "stdout",
     "output_type": "stream",
     "text": [
      "10/10 [==============================] - 0s 1ms/step\n"
     ]
    }
   ],
   "source": [
    "predict = net_10.predict(M13_X_test_4)\n"
   ]
  },
  {
   "cell_type": "code",
   "execution_count": 300,
   "metadata": {},
   "outputs": [
    {
     "data": {
      "image/png": "[encoded data removed]",
      "text/plain": [
       "<Figure size 864x360 with 1 Axes>"
      ]
     },
     "metadata": {
      "needs_background": "light"
     },
     "output_type": "display_data"
    }
   ],
   "source": [
    "fig, ax = plt.subplots(figsize=(12, 5))\n",
    "ax.plot(M13_y_test_4.reset_index(drop=True,inplace=False), label='Y Test')\n",
    "ax.plot(predict, label='net_1_4')\n",
    "plt.grid(1)\n",
    "ax.legend()\n",
    "plt.savefig('out_pics//Graph_net_1_4')\n",
    "plt.show()\n"
   ]
  },
  {
   "cell_type": "code",
   "execution_count": 301,
   "metadata": {},
   "outputs": [
    {
     "name": "stdout",
     "output_type": "stream",
     "text": [
      "INFO:tensorflow:Assets written to: out_models//Graph_net_1_4\\assets\n"
     ]
    }
   ],
   "source": [
    "#Сохраним модели нейронной сети\n",
    "net_10.save('out_models//Graph_net_1_4')"
   ]
  },
  {
   "cell_type": "markdown",
   "metadata": {},
   "source": [
    "# 5. Общий вывод"
   ]
  },
  {
   "cell_type": "markdown",
   "metadata": {},
   "source": [
    "Результаты по трем моделям достигаются лишь при существенной корректировке исходных данных, что косвенно может говорить об остуствиии подствержденных экспериментальых данных в исходном датасете и о сильной разбалансировке исходного датасета.\n",
    "В качестве направлений для дальнейшего исследования датасета можно определить:\n",
    " 1. Оптимизация алгоритма корректировки датасета\n",
    " 2. Подбор оптимальных параметров между процентом корректировки датасета и полученной точностью прогнозирования результатов\n",
    " 3. Поиск нейронной сети, повышающей точность использования прочих алгоритмов"
   ]
  },
  {
   "cell_type": "code",
   "execution_count": 46,
   "metadata": {},
   "outputs": [],
   "source": [
    "import pickle"
   ]
  },
  {
   "cell_type": "code",
   "execution_count": 49,
   "metadata": {},
   "outputs": [],
   "source": [
    "load_model=pickle.load(open('M11.pkl','rb'))"
   ]
  },
  {
   "cell_type": "code",
   "execution_count": 51,
   "metadata": {},
   "outputs": [],
   "source": [
    "s1 =1\n",
    "s2 =2\n",
    "s3 =3\n",
    "s4 =4\n",
    "s5 =5\n",
    "s6 =6\n",
    "s7 =7\n",
    "s8 =8\n",
    "s9 =9\n",
    "s10 =10\n",
    "s11 =11\n",
    "s12 =12\n",
    "\n",
    "\n",
    "\n",
    "data = {'Угол нашивки, град':s1,\n",
    "                     'Шаг нашивки': s2,\n",
    "                     'Плотность нашивки': s3,\n",
    "                     'Соотношение матрица-наполнитель': s4,\n",
    "                     'Плотность, кг/м3': s5,\n",
    "                     'модуль упругости, ГПа': s6,\n",
    "                     'Количество отвердителя, м.%': s7,\n",
    "                     'Содержание эпоксидных групп,%_2': s8,\n",
    "                     'Температура вспышки, С_2': s9,\n",
    "                     'Поверхностная плотность, г/м2': s10,\n",
    "                     'Прочность при растяжении, МПа': s11,\n",
    "                     'Потребление смолы, г/м2': s12}\n",
    "x = pd.DataFrame(data, index=[0])"
   ]
  },
  {
   "cell_type": "code",
   "execution_count": 52,
   "metadata": {},
   "outputs": [],
   "source": [
    "y = load_model.predict(x)"
   ]
  },
  {
   "cell_type": "code",
   "execution_count": 56,
   "metadata": {},
   "outputs": [
    {
     "data": {
      "text/plain": [
       "'[0.16707696]'"
      ]
     },
     "execution_count": 56,
     "metadata": {},
     "output_type": "execute_result"
    }
   ],
   "source": [
    "str(y)"
   ]
  },
  {
   "cell_type": "code",
   "execution_count": null,
   "metadata": {},
   "outputs": [],
   "source": []
  }
 ],
 "metadata": {
  "colab": {
   "collapsed_sections": [],
   "name": "Конечная версия V1.ipynb",
   "provenance": [],
   "toc_visible": true
  },
  "kernelspec": {
   "display_name": "Python 3 (ipykernel)",
   "language": "python",
   "name": "python3"
  },
  "language_info": {
   "codemirror_mode": {
    "name": "ipython",
    "version": 3
   },
   "file_extension": ".py",
   "mimetype": "text/x-python",
   "name": "python",
   "nbconvert_exporter": "python",
   "pygments_lexer": "ipython3",
   "version": "3.10.2"
  }
 },
 "nbformat": 4,
 "nbformat_minor": 1
}
